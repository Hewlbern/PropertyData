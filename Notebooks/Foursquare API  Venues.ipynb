{
 "cells": [
  {
   "cell_type": "code",
   "execution_count": 1,
   "metadata": {},
   "outputs": [
    {
     "name": "stderr",
     "output_type": "stream",
     "text": [
      "/home/holborn/snap/jupyter/common/lib/python3.7/site-packages/joblib/_multiprocessing_helpers.py:45: UserWarning: [Errno 13] Permission denied.  joblib will operate in serial mode\n",
      "  warnings.warn('%s.  joblib will operate in serial mode' % (e,))\n"
     ]
    }
   ],
   "source": [
    "import requests\n",
    "import json\n",
    "\n",
    "\n",
    "\n",
    "import matplotlib.pyplot as plt\n",
    "import seaborn as sns\n",
    "\n",
    "from pandasdmx import Request\n",
    "from pandas.io.json import json_normalize # tranform JSON file into a pandas dataframe\n",
    "import pandas as pd\n",
    "import numpy as np\n",
    "import geopandas as gpd\n",
    "\n",
    "import time\n",
    "\n",
    "import csv\n",
    "\n",
    "import sys, os\n",
    "from sqlalchemy import create_engine\n",
    "\n",
    "import pymssql\n",
    "import sqlalchemy as db\n",
    "\n",
    "from functools import reduce\n",
    "\n",
    "import folium # map rendering library\n",
    "from sklearn.neighbors import NearestNeighbors\n",
    "\n"
   ]
  },
  {
   "cell_type": "code",
   "execution_count": null,
   "metadata": {},
   "outputs": [],
   "source": [
    "#intialise Foursquare API credentials\n",
    "url = 'https://api.foursquare.com/v2/venues/explore'\n",
    "\n",
    "\n",
    "CLIENT_ID = 'ZY2UKTXC3KLI2DSJYFZPC3CPXMU4SGKILQOKDZK5FAMGXB2C' # your Foursquare ID\n",
    "CLIENT_SECRET = '0D0TWC2MD2NDOHUUXRAYAS1DRQRAA2E14Z33QU01YADTE0O1' # your Foursquare Secret\n",
    "VERSION = '20180605' # Foursquare API version\n",
    "\n",
    "\n",
    "# #intialise Foursquare API credentials\n",
    "# CLIENT_ID = 'EKC0OWGJC1SY1AE1UHB4PUPH2JGARZTQK1U5C1USTUNA43JF' # your Foursquare ID\n",
    "# CLIENT_SECRET = 'CHH0EPUEN2PH4WBDV4XHTDT5NWTUZ2SYVIQALUOZXWYNABRO' # your Foursquare Secret"
   ]
  },
  {
   "cell_type": "code",
   "execution_count": null,
   "metadata": {},
   "outputs": [],
   "source": [
    "\n",
    "#Use the function to extract the category from the dataframe (because the column name could be either 'categories' or 'venue.categories')\n",
    "def get_category_type(row):\n",
    "    try:\n",
    "        categories_list = row['categories']\n",
    "    except:\n",
    "        categories_list = row['venue.categories']\n",
    "        \n",
    "    if len(categories_list) == 0:\n",
    "        return None\n",
    "    else:\n",
    "        return categories_list[0]['name']\n",
    "\n",
    "\n",
    "#define a function to return all the venues for a given neighborhood\n",
    "\n",
    "#pass the neighborhood (nb), the latitude (la), the radius and the limit \n",
    "def get_venues(nb, la, lo, radius, limit):\n",
    "    \n",
    "    #print(nb)\n",
    "    \n",
    "    #form the request url and request only the items (which are the venues)\n",
    "    url = 'https://api.foursquare.com/v2/venues/explore?client_id={}&client_secret={}&ll={},{}&v={}&limit={}'.format(CLIENT_ID, CLIENT_SECRET, la, lo, VERSION, limit)\n",
    "    items = requests.get(url).json()[\"response\"]['groups'][0]['items']\n",
    "    \n",
    "    #include exception handling where Foursquare request fails for a particular Neighbourhood\n",
    "    if items == []:\n",
    "        print(\" -- Foursquare request for \",nb,\"returned no results --\")\n",
    "        return None\n",
    "    else:\n",
    "        # flatten JSON, filter for only wanted columns then use the get_category_type funtion to replace the category list with just the category.\n",
    "        venues1 = json_normalize(items)\n",
    "        filtered_columns = ['venue.name', 'venue.categories', 'venue.location.lat', 'venue.location.lng']\n",
    "        venues1 =venues1.loc[:, filtered_columns]\n",
    "        venues1['venue.categories'] = venues1.apply(get_category_type, axis=1)\n",
    "\n",
    "        #define a new dataframe with the Neighbourhood information\n",
    "        venues2 = pd.DataFrame(columns=['Suburb','Suburb Latitude', \n",
    "                      'Suburb Longitude']) \n",
    "\n",
    "        #for each of the venues returned, add the venue dataframe to the (empty) neighbourhood dataframe and fill all rows in the the neighbourhood columns with the neighborhood name, the neighbourhood latitude and longitude\n",
    "        i=0\n",
    "        for row in venues1:\n",
    "            venues2[row]=venues1[row]\n",
    "            venues2['Suburb']=nb\n",
    "            venues2['Suburb Latitude']=la\n",
    "            venues2['Suburb Longitude']=lo\n",
    "            i=i+1\n",
    "\n",
    "        #rename the columns\n",
    "        venues2.rename(index=str,columns={\"venue.name\":\"Venue\",\"venue.categories\":\"Venue Category\",\"venue.location.lat\":\"Venue Latitude\",\"venue.location.lng\":\"Venue Longitude\"}, inplace=True)\n",
    "    \n",
    "    return venues2"
   ]
  },
  {
   "cell_type": "code",
   "execution_count": null,
   "metadata": {},
   "outputs": [],
   "source": [
    "# #Iterate thorough all the suburbs of the dataframe df, adding each set of venues to the df_suburb_venues dataframe\n",
    "# #df=melb_postcodes\n",
    "# df=melb_postcodes\n",
    "# df_suburb_venues=pd.DataFrame()\n",
    "# radius = 500\n",
    "# limit = 10000\n",
    "# print(\"Getting venue recommendations, please wait......\")\n",
    "# for i, row in enumerate(df['suburb']):\n",
    "#         df_suburb_venues=df_suburb_venues.append(get_venues(df.iloc[i]['suburb'], df.iloc[i]['lat'], df.iloc[i]['lon'], radius, limit),ignore_index=True)\n",
    "# print(\"...... Complete\")"
   ]
  }
 ],
 "metadata": {
  "kernelspec": {
   "display_name": "Python 3",
   "language": "python",
   "name": "python3"
  },
  "language_info": {
   "codemirror_mode": {
    "name": "ipython",
    "version": 3
   },
   "file_extension": ".py",
   "mimetype": "text/x-python",
   "name": "python",
   "nbconvert_exporter": "python",
   "pygments_lexer": "ipython3",
   "version": "3.7.3"
  }
 },
 "nbformat": 4,
 "nbformat_minor": 2
}
