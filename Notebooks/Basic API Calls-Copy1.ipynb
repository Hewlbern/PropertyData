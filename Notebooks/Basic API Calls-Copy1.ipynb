{
 "cells": [
  {
   "cell_type": "code",
   "execution_count": 5,
   "metadata": {},
   "outputs": [
    {
     "name": "stderr",
     "output_type": "stream",
     "text": [
      "/home/holborn/snap/jupyter/common/lib/python3.7/site-packages/joblib/_multiprocessing_helpers.py:45: UserWarning: [Errno 13] Permission denied.  joblib will operate in serial mode\n",
      "  warnings.warn('%s.  joblib will operate in serial mode' % (e,))\n"
     ]
    }
   ],
   "source": [
    "import requests\n",
    "import json\n",
    "\n",
    "\n",
    "\n",
    "import matplotlib.pyplot as plt\n",
    "import seaborn as sns\n",
    "\n",
    "from pandasdmx import Request\n",
    "from pandas.io.json import json_normalize # tranform JSON file into a pandas dataframe\n",
    "import pandas as pd\n",
    "import numpy as np\n",
    "import geopandas as gpd\n",
    "\n",
    "import time\n",
    "\n",
    "import csv\n",
    "\n",
    "import sys, os\n",
    "from sqlalchemy import create_engine\n",
    "\n",
    "import pymssql\n",
    "import sqlalchemy as db\n",
    "\n",
    "from functools import reduce\n",
    "\n",
    "import folium # map rendering library\n",
    "from sklearn.neighbors import NearestNeighbors\n",
    "\n"
   ]
  },
  {
   "cell_type": "markdown",
   "metadata": {},
   "source": [
    "### Here API"
   ]
  },
  {
   "cell_type": "code",
   "execution_count": 159,
   "metadata": {},
   "outputs": [],
   "source": [
    "API_Key = 't9X9EF_AkG_qVZ8Q4dWSgyJuMhSklDP7i_gqX5EMunQ'\n",
    "URL = 'https://router.hereapi.com/v8/routes?'\n",
    "# TRANSPORTMODE ='transportMode=pedestrian' \n",
    "PARAMS = '&origin=-37.8046041,144.9454422&destination=-37.8102306,144.9539645&return=polyline,summary&apikey='\n",
    "\n",
    "TRANSPORTMODE ='pedestrian' \n",
    "\n",
    "RETURN = 'polyline'\n",
    "\n",
    "DESTINATION_X = '-37.8102306'\n",
    "DESTINATION_Y = '144.9539645'\n",
    "ORIGIN_X = '-37.8046041'\n",
    "ORIGIN_Y = '144.9454422'"
   ]
  },
  {
   "cell_type": "markdown",
   "metadata": {},
   "source": [
    "### Get Travel Time"
   ]
  },
  {
   "cell_type": "code",
   "execution_count": 160,
   "metadata": {},
   "outputs": [],
   "source": [
    "def get_transport(TRANSPORTMODE, ORIGIN_X,ORIGIN_Y,DESTINATION_X,DESTINATION_Y,RETURN ,API_Key):\n",
    "    \n",
    "    #print(nb)\n",
    "    \n",
    "    #form the request url and request only the items (which are the venues)\n",
    "    url = 'https://router.hereapi.com/v8/routes?transportMode={}&origin={},{}&destination={},{}&return={},summary&apikey={}'.format(TRANSPORTMODE, ORIGIN_X,ORIGIN_Y,DESTINATION_X,DESTINATION_Y,RETURN ,API_Key)\n",
    "    items = requests.get(url).json()['routes'][0]['sections']\n",
    "    transport = json_normalize(items).set_index('id')\n",
    "    print(url)\n",
    "    #include exception handling where Foursquare request fails for a particular Neighbourhood\n",
    "    if items == []:\n",
    "        print(\" -- HERO request for \",nb,\"returned no results --\")\n",
    "        return None\n",
    "    return transport\n"
   ]
  },
  {
   "cell_type": "markdown",
   "metadata": {},
   "source": [
    "### FourSquare API"
   ]
  },
  {
   "cell_type": "code",
   "execution_count": 161,
   "metadata": {},
   "outputs": [],
   "source": [
    "#intialise Foursquare API credentials\n",
    "url = 'https://api.foursquare.com/v2/venues/explore'\n",
    "\n",
    "\n",
    "CLIENT_ID = 'ZY2UKTXC3KLI2DSJYFZPC3CPXMU4SGKILQOKDZK5FAMGXB2C' # your Foursquare ID\n",
    "CLIENT_SECRET = '0D0TWC2MD2NDOHUUXRAYAS1DRQRAA2E14Z33QU01YADTE0O1' # your Foursquare Secret\n",
    "VERSION = '20180605' # Foursquare API version\n",
    "\n",
    "\n",
    "# #intialise Foursquare API credentials\n",
    "# CLIENT_ID = 'EKC0OWGJC1SY1AE1UHB4PUPH2JGARZTQK1U5C1USTUNA43JF' # your Foursquare ID\n",
    "# CLIENT_SECRET = 'CHH0EPUEN2PH4WBDV4XHTDT5NWTUZ2SYVIQALUOZXWYNABRO' # your Foursquare Secret"
   ]
  },
  {
   "cell_type": "markdown",
   "metadata": {},
   "source": [
    "### Get Venues"
   ]
  },
  {
   "cell_type": "code",
   "execution_count": 162,
   "metadata": {},
   "outputs": [],
   "source": [
    "#Use the function to extract the category from the dataframe (because the column name could be either 'categories' or 'venue.categories')\n",
    "def get_category_type(row):\n",
    "    try:\n",
    "        categories_list = row['categories']\n",
    "    except:\n",
    "        categories_list = row['venue.categories']\n",
    "        \n",
    "    if len(categories_list) == 0:\n",
    "        return None\n",
    "    else:\n",
    "        return categories_list[0]['name']\n",
    "\n",
    "\n",
    "#define a function to return all the venues for a given neighborhood\n",
    "\n",
    "#pass the neighborhood (nb), the latitude (la), the radius and the limit \n",
    "def get_venues(nb, la, lo, radius, limit):\n",
    "    \n",
    "    #print(nb)\n",
    "    \n",
    "    #form the request url and request only the items (which are the venues)\n",
    "    url = 'https://api.foursquare.com/v2/venues/explore?client_id={}&client_secret={}&ll={},{}&v={}&limit={}'.format(CLIENT_ID, CLIENT_SECRET, la, lo, VERSION, limit)\n",
    "    items = requests.get(url).json()[\"response\"]['groups'][0]['items']\n",
    "    \n",
    "    #include exception handling where Foursquare request fails for a particular Neighbourhood\n",
    "    if items == []:\n",
    "        print(\" -- Foursquare request for \",nb,\"returned no results --\")\n",
    "        return None\n",
    "    else:\n",
    "        # flatten JSON, filter for only wanted columns then use the get_category_type funtion to replace the category list with just the category.\n",
    "        venues1 = json_normalize(items)\n",
    "        filtered_columns = ['venue.name', 'venue.categories', 'venue.location.lat', 'venue.location.lng']\n",
    "        venues1 =venues1.loc[:, filtered_columns]\n",
    "        venues1['venue.categories'] = venues1.apply(get_category_type, axis=1)\n",
    "\n",
    "        #define a new dataframe with the Neighbourhood information\n",
    "        venues2 = pd.DataFrame(columns=['Suburb','Suburb Latitude', \n",
    "                      'Suburb Longitude']) \n",
    "\n",
    "        #for each of the venues returned, add the venue dataframe to the (empty) neighbourhood dataframe and fill all rows in the the neighbourhood columns with the neighborhood name, the neighbourhood latitude and longitude\n",
    "        i=0\n",
    "        for row in venues1:\n",
    "            venues2[row]=venues1[row]\n",
    "            venues2['Suburb']=nb\n",
    "            venues2['Suburb Latitude']=la\n",
    "            venues2['Suburb Longitude']=lo\n",
    "            i=i+1\n",
    "\n",
    "        #rename the columns\n",
    "        venues2.rename(index=str,columns={\"venue.name\":\"Venue\",\"venue.categories\":\"Venue Category\",\"venue.location.lat\":\"Venue Latitude\",\"venue.location.lng\":\"Venue Longitude\"}, inplace=True)\n",
    "    \n",
    "    return venues2"
   ]
  },
  {
   "cell_type": "markdown",
   "metadata": {},
   "source": [
    "### Call API"
   ]
  },
  {
   "cell_type": "code",
   "execution_count": 158,
   "metadata": {},
   "outputs": [
    {
     "name": "stdout",
     "output_type": "stream",
     "text": [
      "https://router.hereapi.com/v8/routes?transportMode=pedestrian&origin=-37.8046041,144.9454422&destination=-37.8102306,144.9539645&return=polyline,summary&apikey=t9X9EF_AkG_qVZ8Q4dWSgyJuMhSklDP7i_gqX5EMunQ\n"
     ]
    },
    {
     "name": "stderr",
     "output_type": "stream",
     "text": [
      "/snap/jupyter/6/lib/python3.7/site-packages/ipykernel_launcher.py:8: FutureWarning: pandas.io.json.json_normalize is deprecated, use pandas.json_normalize instead\n",
      "  \n"
     ]
    },
    {
     "data": {
      "text/html": [
       "<div>\n",
       "<style scoped>\n",
       "    .dataframe tbody tr th:only-of-type {\n",
       "        vertical-align: middle;\n",
       "    }\n",
       "\n",
       "    .dataframe tbody tr th {\n",
       "        vertical-align: top;\n",
       "    }\n",
       "\n",
       "    .dataframe thead th {\n",
       "        text-align: right;\n",
       "    }\n",
       "</style>\n",
       "<table border=\"1\" class=\"dataframe\">\n",
       "  <thead>\n",
       "    <tr style=\"text-align: right;\">\n",
       "      <th></th>\n",
       "      <th>type</th>\n",
       "      <th>polyline</th>\n",
       "      <th>departure.time</th>\n",
       "      <th>departure.place.type</th>\n",
       "      <th>departure.place.location.lat</th>\n",
       "      <th>departure.place.location.lng</th>\n",
       "      <th>departure.place.originalLocation.lat</th>\n",
       "      <th>departure.place.originalLocation.lng</th>\n",
       "      <th>arrival.time</th>\n",
       "      <th>arrival.place.type</th>\n",
       "      <th>arrival.place.location.lat</th>\n",
       "      <th>arrival.place.location.lng</th>\n",
       "      <th>arrival.place.originalLocation.lat</th>\n",
       "      <th>arrival.place.originalLocation.lng</th>\n",
       "      <th>summary.duration</th>\n",
       "      <th>summary.length</th>\n",
       "      <th>summary.baseDuration</th>\n",
       "      <th>transport.mode</th>\n",
       "    </tr>\n",
       "    <tr>\n",
       "      <th>id</th>\n",
       "      <th></th>\n",
       "      <th></th>\n",
       "      <th></th>\n",
       "      <th></th>\n",
       "      <th></th>\n",
       "      <th></th>\n",
       "      <th></th>\n",
       "      <th></th>\n",
       "      <th></th>\n",
       "      <th></th>\n",
       "      <th></th>\n",
       "      <th></th>\n",
       "      <th></th>\n",
       "      <th></th>\n",
       "      <th></th>\n",
       "      <th></th>\n",
       "      <th></th>\n",
       "      <th></th>\n",
       "    </tr>\n",
       "  </thead>\n",
       "  <tbody>\n",
       "    <tr>\n",
       "      <th>efb71811-c925-4358-aae4-781073f8ddc6</th>\n",
       "      <td>pedestrian</td>\n",
       "      <td>BGtotjoCux4u0I5DyoBrEkwBvC0enB4STgFTsEnBsEnB4D...</td>\n",
       "      <td>2020-12-20T23:51:19+11:00</td>\n",
       "      <td>place</td>\n",
       "      <td>-37.804679</td>\n",
       "      <td>144.945431</td>\n",
       "      <td>-37.804604</td>\n",
       "      <td>144.945442</td>\n",
       "      <td>2020-12-21T00:08:45+11:00</td>\n",
       "      <td>place</td>\n",
       "      <td>-37.810234</td>\n",
       "      <td>144.953962</td>\n",
       "      <td>-37.810231</td>\n",
       "      <td>144.953965</td>\n",
       "      <td>1046</td>\n",
       "      <td>1039</td>\n",
       "      <td>1046</td>\n",
       "      <td>pedestrian</td>\n",
       "    </tr>\n",
       "  </tbody>\n",
       "</table>\n",
       "</div>"
      ],
      "text/plain": [
       "                                            type  \\\n",
       "id                                                 \n",
       "efb71811-c925-4358-aae4-781073f8ddc6  pedestrian   \n",
       "\n",
       "                                                                               polyline  \\\n",
       "id                                                                                        \n",
       "efb71811-c925-4358-aae4-781073f8ddc6  BGtotjoCux4u0I5DyoBrEkwBvC0enB4STgFTsEnBsEnB4D...   \n",
       "\n",
       "                                                 departure.time  \\\n",
       "id                                                                \n",
       "efb71811-c925-4358-aae4-781073f8ddc6  2020-12-20T23:51:19+11:00   \n",
       "\n",
       "                                     departure.place.type  \\\n",
       "id                                                          \n",
       "efb71811-c925-4358-aae4-781073f8ddc6                place   \n",
       "\n",
       "                                      departure.place.location.lat  \\\n",
       "id                                                                   \n",
       "efb71811-c925-4358-aae4-781073f8ddc6                    -37.804679   \n",
       "\n",
       "                                      departure.place.location.lng  \\\n",
       "id                                                                   \n",
       "efb71811-c925-4358-aae4-781073f8ddc6                    144.945431   \n",
       "\n",
       "                                      departure.place.originalLocation.lat  \\\n",
       "id                                                                           \n",
       "efb71811-c925-4358-aae4-781073f8ddc6                            -37.804604   \n",
       "\n",
       "                                      departure.place.originalLocation.lng  \\\n",
       "id                                                                           \n",
       "efb71811-c925-4358-aae4-781073f8ddc6                            144.945442   \n",
       "\n",
       "                                                   arrival.time  \\\n",
       "id                                                                \n",
       "efb71811-c925-4358-aae4-781073f8ddc6  2020-12-21T00:08:45+11:00   \n",
       "\n",
       "                                     arrival.place.type  \\\n",
       "id                                                        \n",
       "efb71811-c925-4358-aae4-781073f8ddc6              place   \n",
       "\n",
       "                                      arrival.place.location.lat  \\\n",
       "id                                                                 \n",
       "efb71811-c925-4358-aae4-781073f8ddc6                  -37.810234   \n",
       "\n",
       "                                      arrival.place.location.lng  \\\n",
       "id                                                                 \n",
       "efb71811-c925-4358-aae4-781073f8ddc6                  144.953962   \n",
       "\n",
       "                                      arrival.place.originalLocation.lat  \\\n",
       "id                                                                         \n",
       "efb71811-c925-4358-aae4-781073f8ddc6                          -37.810231   \n",
       "\n",
       "                                      arrival.place.originalLocation.lng  \\\n",
       "id                                                                         \n",
       "efb71811-c925-4358-aae4-781073f8ddc6                          144.953965   \n",
       "\n",
       "                                      summary.duration  summary.length  \\\n",
       "id                                                                       \n",
       "efb71811-c925-4358-aae4-781073f8ddc6              1046            1039   \n",
       "\n",
       "                                      summary.baseDuration transport.mode  \n",
       "id                                                                         \n",
       "efb71811-c925-4358-aae4-781073f8ddc6                  1046     pedestrian  "
      ]
     },
     "execution_count": 158,
     "metadata": {},
     "output_type": "execute_result"
    }
   ],
   "source": [
    "transport  = get_transport(TRANSPORTMODE, ORIGIN_X,ORIGIN_Y,DESTINATION_X,DESTINATION_Y,RETURN ,API_Key)\n",
    "transport"
   ]
  },
  {
   "cell_type": "code",
   "execution_count": null,
   "metadata": {},
   "outputs": [],
   "source": []
  },
  {
   "cell_type": "code",
   "execution_count": 88,
   "metadata": {},
   "outputs": [],
   "source": [
    "PolyLine = r['routes'][0]['sections'][0]['polyline']\n",
    "Time = r['routes'][0]['sections'][0]['departure']['time']\n",
    "location=r['routes'][0]['sections'][0]['departure']['place']['location']\n",
    "originalLocation=r['routes'][0]['sections'][0]['departure']['place']['originalLocation']\n",
    "\n"
   ]
  },
  {
   "cell_type": "code",
   "execution_count": 130,
   "metadata": {},
   "outputs": [
    {
     "data": {
      "text/plain": [
       "{'id': 'ef435536-ee29-4eb8-bad8-cd05e25b25c1',\n",
       " 'sections': [{'id': 'd09890b6-9a98-412e-b2ed-ff1e47b89c07',\n",
       "   'type': 'pedestrian',\n",
       "   'departure': {'time': '2020-12-19T16:43:34+11:00',\n",
       "    'place': {'type': 'place',\n",
       "     'location': {'lat': -37.8046786, 'lng': 144.9454307},\n",
       "     'originalLocation': {'lat': -37.8046042, 'lng': 144.9454422}}},\n",
       "   'arrival': {'time': '2020-12-19T17:01:00+11:00',\n",
       "    'place': {'type': 'place',\n",
       "     'location': {'lat': -37.8102345, 'lng': 144.9539622},\n",
       "     'originalLocation': {'lat': -37.8102306, 'lng': 144.9539645}}},\n",
       "   'summary': {'duration': 1046, 'length': 1039, 'baseDuration': 1046},\n",
       "   'polyline': 'BGtotjoCux4u0I5DyoBrEkwBvC0enB4STgFTsEnBsEnB4D7BsEjD8GjD0FrE8G_EwH_E8GjDgFjDgF3D8GnLoQjDsEjD4D_E0FrEgFzF8G7QoVrEoG3DgFvH4IvM4N3IsJzK0KrJsJ7LoL7QgP3IwHvCwC7G0FnLgKzFgFvM0KzFsE7GgFzF4D3IoGzFsErEkDrEwCzFkDnGkD_EoQ7BsOvCoQzF0K3IsJ3IA7GAvHoB_EwCjDkDjDgFnFwO',\n",
       "   'transport': {'mode': 'pedestrian'}}]}"
      ]
     },
     "execution_count": 130,
     "metadata": {},
     "output_type": "execute_result"
    }
   ],
   "source": [
    "r['routes'][0]"
   ]
  },
  {
   "cell_type": "code",
   "execution_count": 98,
   "metadata": {},
   "outputs": [
    {
     "data": {
      "text/plain": [
       "{'lat': -37.8046786, 'lng': 144.9454307}"
      ]
     },
     "execution_count": 98,
     "metadata": {},
     "output_type": "execute_result"
    }
   ],
   "source": [
    "location"
   ]
  },
  {
   "cell_type": "code",
   "execution_count": 99,
   "metadata": {},
   "outputs": [
    {
     "data": {
      "text/html": [
       "<div>\n",
       "<style scoped>\n",
       "    .dataframe tbody tr th:only-of-type {\n",
       "        vertical-align: middle;\n",
       "    }\n",
       "\n",
       "    .dataframe tbody tr th {\n",
       "        vertical-align: top;\n",
       "    }\n",
       "\n",
       "    .dataframe thead th {\n",
       "        text-align: right;\n",
       "    }\n",
       "</style>\n",
       "<table border=\"1\" class=\"dataframe\">\n",
       "  <thead>\n",
       "    <tr style=\"text-align: right;\">\n",
       "      <th></th>\n",
       "      <th>type</th>\n",
       "      <th>location</th>\n",
       "      <th>originalLocation</th>\n",
       "    </tr>\n",
       "  </thead>\n",
       "  <tbody>\n",
       "    <tr>\n",
       "      <th>lat</th>\n",
       "      <td>place</td>\n",
       "      <td>-37.804679</td>\n",
       "      <td>-37.804604</td>\n",
       "    </tr>\n",
       "    <tr>\n",
       "      <th>lng</th>\n",
       "      <td>place</td>\n",
       "      <td>144.945431</td>\n",
       "      <td>144.945442</td>\n",
       "    </tr>\n",
       "  </tbody>\n",
       "</table>\n",
       "</div>"
      ],
      "text/plain": [
       "      type    location  originalLocation\n",
       "lat  place  -37.804679        -37.804604\n",
       "lng  place  144.945431        144.945442"
      ]
     },
     "execution_count": 99,
     "metadata": {},
     "output_type": "execute_result"
    }
   ],
   "source": [
    "pd.DataFrame.from_dict(r['routes'][0]['sections'][0]['departure']['place'])"
   ]
  },
  {
   "cell_type": "code",
   "execution_count": 90,
   "metadata": {},
   "outputs": [
    {
     "ename": "TypeError",
     "evalue": "'module' object is not callable",
     "output_type": "error",
     "traceback": [
      "\u001b[0;31m---------------------------------------------------------------------------\u001b[0m",
      "\u001b[0;31mTypeError\u001b[0m                                 Traceback (most recent call last)",
      "\u001b[0;32m<ipython-input-90-230a03a47ea7>\u001b[0m in \u001b[0;36m<module>\u001b[0;34m\u001b[0m\n\u001b[0;32m----> 1\u001b[0;31m \u001b[0mgpd\u001b[0m\u001b[0;34m(\u001b[0m\u001b[0mPolyLine\u001b[0m\u001b[0;34m)\u001b[0m\u001b[0;34m\u001b[0m\u001b[0;34m\u001b[0m\u001b[0m\n\u001b[0m",
      "\u001b[0;31mTypeError\u001b[0m: 'module' object is not callable"
     ]
    }
   ],
   "source": [
    "gpd"
   ]
  },
  {
   "cell_type": "code",
   "execution_count": 64,
   "metadata": {},
   "outputs": [
    {
     "data": {
      "text/plain": [
       "dict_keys(['id', 'type', 'departure', 'arrival', 'summary', 'polyline', 'transport'])"
      ]
     },
     "execution_count": 64,
     "metadata": {},
     "output_type": "execute_result"
    }
   ],
   "source": [
    "r['routes'][0]['sections'][0].keys()"
   ]
  },
  {
   "cell_type": "code",
   "execution_count": 96,
   "metadata": {},
   "outputs": [
    {
     "data": {
      "text/html": [
       "<div>\n",
       "<style scoped>\n",
       "    .dataframe tbody tr th:only-of-type {\n",
       "        vertical-align: middle;\n",
       "    }\n",
       "\n",
       "    .dataframe tbody tr th {\n",
       "        vertical-align: top;\n",
       "    }\n",
       "\n",
       "    .dataframe thead th {\n",
       "        text-align: right;\n",
       "    }\n",
       "</style>\n",
       "<table border=\"1\" class=\"dataframe\">\n",
       "  <thead>\n",
       "    <tr style=\"text-align: right;\">\n",
       "      <th></th>\n",
       "      <th>time</th>\n",
       "      <th>place</th>\n",
       "    </tr>\n",
       "  </thead>\n",
       "  <tbody>\n",
       "    <tr>\n",
       "      <th>location</th>\n",
       "      <td>2020-12-19T16:43:34+11:00</td>\n",
       "      <td>{'lat': -37.8046786, 'lng': 144.9454307}</td>\n",
       "    </tr>\n",
       "    <tr>\n",
       "      <th>originalLocation</th>\n",
       "      <td>2020-12-19T16:43:34+11:00</td>\n",
       "      <td>{'lat': -37.8046042, 'lng': 144.9454422}</td>\n",
       "    </tr>\n",
       "    <tr>\n",
       "      <th>type</th>\n",
       "      <td>2020-12-19T16:43:34+11:00</td>\n",
       "      <td>place</td>\n",
       "    </tr>\n",
       "  </tbody>\n",
       "</table>\n",
       "</div>"
      ],
      "text/plain": [
       "                                       time  \\\n",
       "location          2020-12-19T16:43:34+11:00   \n",
       "originalLocation  2020-12-19T16:43:34+11:00   \n",
       "type              2020-12-19T16:43:34+11:00   \n",
       "\n",
       "                                                     place  \n",
       "location          {'lat': -37.8046786, 'lng': 144.9454307}  \n",
       "originalLocation  {'lat': -37.8046042, 'lng': 144.9454422}  \n",
       "type                                                 place  "
      ]
     },
     "execution_count": 96,
     "metadata": {},
     "output_type": "execute_result"
    }
   ],
   "source": [
    "pd.DataFrame.from_dict(r['routes'][0]['sections'][0]['departure'])"
   ]
  },
  {
   "cell_type": "code",
   "execution_count": 77,
   "metadata": {},
   "outputs": [
    {
     "data": {
      "text/plain": [
       "{'lat': -37.8046786, 'lng': 144.9454307}"
      ]
     },
     "execution_count": 77,
     "metadata": {},
     "output_type": "execute_result"
    }
   ],
   "source": [
    "location"
   ]
  },
  {
   "cell_type": "code",
   "execution_count": 78,
   "metadata": {},
   "outputs": [
    {
     "data": {
      "text/plain": [
       "{'lat': -37.8046042, 'lng': 144.9454422}"
      ]
     },
     "execution_count": 78,
     "metadata": {},
     "output_type": "execute_result"
    }
   ],
   "source": [
    "originalLocation"
   ]
  },
  {
   "cell_type": "code",
   "execution_count": 63,
   "metadata": {},
   "outputs": [
    {
     "data": {
      "text/plain": [
       "'f902ae12-c7b5-4243-a47c-a22be2b1adfc'"
      ]
     },
     "execution_count": 63,
     "metadata": {},
     "output_type": "execute_result"
    }
   ],
   "source": [
    "r['routes'][0]['id']"
   ]
  },
  {
   "cell_type": "code",
   "execution_count": 66,
   "metadata": {},
   "outputs": [],
   "source": [
    "PolyLine = r['routes'][0]['sections'][0]['polyline']"
   ]
  },
  {
   "cell_type": "code",
   "execution_count": null,
   "metadata": {},
   "outputs": [],
   "source": [
    "r['routes'][0]['sections'][0]['departure']"
   ]
  }
 ],
 "metadata": {
  "kernelspec": {
   "display_name": "Python 3",
   "language": "python",
   "name": "python3"
  },
  "language_info": {
   "codemirror_mode": {
    "name": "ipython",
    "version": 3
   },
   "file_extension": ".py",
   "mimetype": "text/x-python",
   "name": "python",
   "nbconvert_exporter": "python",
   "pygments_lexer": "ipython3",
   "version": "3.7.3"
  }
 },
 "nbformat": 4,
 "nbformat_minor": 2
}
