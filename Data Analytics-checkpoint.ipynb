{
 "cells": [
  {
   "cell_type": "code",
   "execution_count": 25,
   "metadata": {},
   "outputs": [],
   "source": [
    "import requests\n",
    "import json\n",
    "\n",
    "\n",
    "\n",
    "import matplotlib.pyplot as plt\n",
    "import seaborn as sns\n",
    "\n",
    "from pandasdmx import Request\n",
    "from pandas.io.json import json_normalize # tranform JSON file into a pandas dataframe\n",
    "import pandas as pd\n",
    "import numpy as np\n",
    "import geopandas as gpd\n",
    "\n",
    "import time\n",
    "\n",
    "import csv\n",
    "\n",
    "import sys, os\n",
    "from sqlalchemy import create_engine\n",
    "\n",
    "import pymssql\n",
    "import sqlalchemy as db\n",
    "\n",
    "from functools import reduce\n",
    "\n",
    "import folium # map rendering library\n",
    "from sklearn.neighbors import NearestNeighbors\n",
    "\n",
    "\n",
    "#Function to get isolines from the Here API. \n",
    "from shapely.geometry import Polygon\n",
    "import requests\n",
    "import geopandas as gpd\n",
    "from geopandas import GeoSeries\n",
    "import folium\n",
    "import pandas as pd\n",
    "\n"
   ]
  },
  {
   "cell_type": "markdown",
   "metadata": {},
   "source": [
    "### inputs "
   ]
  },
  {
   "cell_type": "code",
   "execution_count": 2,
   "metadata": {},
   "outputs": [],
   "source": [
    "API_Key = 't9X9EF_AkG_qVZ8Q4dWSgyJuMhSklDP7i_gqX5EMunQ'\n",
    "URL = 'https://router.hereapi.com/v8/routes?'\n",
    "# TRANSPORTMODE ='transportMode=pedestrian' \n",
    "PARAMS = '&origin=-37.8046041,144.9454422&destination=-37.8102306,144.9539645&return=polyline,summary&apikey='\n",
    "\n",
    "TRANSPORTMODE ='pedestrian' \n",
    "\n",
    "RETURN = 'polyline'\n",
    "\n",
    "DESTINATION_X = '-37.8102306'\n",
    "DESTINATION_Y = '144.9539645'\n",
    "ORIGIN_X = '-37.8046041'\n",
    "ORIGIN_Y = '144.9454422'"
   ]
  },
  {
   "cell_type": "code",
   "execution_count": 3,
   "metadata": {},
   "outputs": [],
   "source": [
    "URLS='https://isoline.route.ls.hereapi.com/routing/v8/calculateisoline.json?apiKey={t9X9EF_AkG_qVZ8Q4dWSgyJuMhSklDP7i_gqX5EMunQ}&mode=fastest;car;traffic:disabled&rangetype=time&start=geo!52.51578,13.37749&range=300'"
   ]
  },
  {
   "cell_type": "code",
   "execution_count": 4,
   "metadata": {},
   "outputs": [],
   "source": [
    "URLS= 'https://isoline.router.hereapi.com/v8/isolines?transportMode=car&origin=52.51578,13.37749&range[type]=time&range[values]=300'"
   ]
  },
  {
   "cell_type": "code",
   "execution_count": 5,
   "metadata": {},
   "outputs": [
    {
     "data": {
      "text/plain": [
       "{'departure': {'time': '2020-12-21T04:05:33+00:00',\n",
       "  'place': {'type': 'place',\n",
       "   'location': {'lat': 52.51576, 'lng': 13.3774199},\n",
       "   'originalLocation': {'lat': 52.51578, 'lng': 13.37749}}},\n",
       " 'isolines': [{'range': {'type': 'time', 'value': 300},\n",
       "   'polygons': [{'outer': 'BG-hxlkD2knuZAmxG3KmgBtVuVtVsgCvVwV1KmgBA8qB3KmgBtVwVvVsgCtVuV3KmgB4KmgBuVuVwVsgC8qB-qBsgCuVwVwVmgB2K8qBAmgB4K-qB8qBuVsgCwVwV2KmgB1KmgBvVuVtVsgC51C61ClgB4KlgB3KvVtVtVA3KmgB4KmgBuVuV4KmgBA81C4KmgBuVuV4KmgBA0rF3KmgBtVwV3KmgB4KmgB8qB8qBwVA8qB7qBwVrgC8qB9qBsgCtVuVvVmgB1KwhIAmgB2K-qB-qBuVsgCwVuV2KmgBA2rF1KmgBlgB4K9qBAlgB2KrgCsgCrgCwV3KmgBA2gE4KmgBsgCwV-qB8qB2KmgBA4gE1KmgB9qB-qBlgB4K51CAlgB2K3KmgBA4gE4KmgBsgCwV8qB8qB4KmgBA2rF3KmgBrgCuV7qB-qBvVsgCrgCsgCtVsgCrgCuVtVuVtVAprDnrDtVA9qB8qB3KmgBA4gE4KmgBuVwV4KmgBA61C3KmgBtVuVtVsgCrgCuVrgCsgClgB4K9qBAlgB3KtVrgCrgCrgCvVrgCjgB1KlgB2KvVwVlgB2K7qBAlgB1K9qB9qB3KlgBA3gE1KlgB71C51CrgCtV51C71C3KlgBA7qB1KlgBlgB3KlgB4KvVuVlgB4K51CAlgB3KtVtVtVAvVuVlgB4K7qBAlgB3KvVrgCtVtV3KlgBA9qB4KlgBuVtV4KlgBA3gE4KlgBuVtV4KlgB3KlgBrgCrgC3KlgBA71C4KlgBuVtVwVrgCmgB3K8qBAmgB1K4KlgBA1rF4KlgBm2El2EuVrgCuVtV4KlgB3KlgBtVvVtVrgCvVtV1KlgBA9qB2KlgBwVtVuVrgCsgCtV4KlgBA3gE2KlgBwVtV2KlgBA3gE4KlgBuVvVwVrgC8qB7qBsgCvV4KlgBAx2G4KlgBuVtVuVrgCsgCtVwVvVmgB1K61CAmgB3K4KlgBAh4O2KlgBmgB3K61CAmgB4K4KmgBA4gE4KmgBuVAuVrgCwVtV2KlgBA9qB4KlgBmgB3K61CAmgBsF4KkQA6a'}]}]}"
      ]
     },
     "execution_count": 5,
     "metadata": {},
     "output_type": "execute_result"
    }
   ],
   "source": [
    "# URLS='https://isoline.route.ls.hereapi.com/routing/v8/calculateisoline.json?apiKey=t9X9EF_AkG_qVZ8Q4dWSgyJuMhSklDP7i_gqX5EMunQ&mode=fastest;car;traffic:disabled&rangetype=time&start=geo!52.51578,13.37749&range=300'\n",
    "URLS= 'https://isoline.router.hereapi.com/v8/isolines?apiKey=t9X9EF_AkG_qVZ8Q4dWSgyJuMhSklDP7i_gqX5EMunQ&mode&transportMode=car&origin=52.51578,13.37749&range[type]=time&range[values]=300'\n",
    "\n",
    "requests.get(URLS).json()\n"
   ]
  },
  {
   "cell_type": "markdown",
   "metadata": {},
   "source": [
    "### Use Isoline to with geopandas to get a radius of map with specific needed places on it"
   ]
  },
  {
   "cell_type": "markdown",
   "metadata": {},
   "source": [
    "### make into a function"
   ]
  },
  {
   "cell_type": "code",
   "execution_count": 6,
   "metadata": {},
   "outputs": [],
   "source": [
    "URLS= 'https://isoline.router.hereapi.com/v8/isolines?apiKey=t9X9EF_AkG_qVZ8Q4dWSgyJuMhSklDP7i_gqX5EMunQ&mode&transportMode={}&origin={},{}&range[type]=time&range[values]=300'\n"
   ]
  },
  {
   "cell_type": "markdown",
   "metadata": {},
   "source": [
    "### Transport Function - Input the transport mode, original location, and walk time."
   ]
  },
  {
   "cell_type": "code",
   "execution_count": 69,
   "metadata": {},
   "outputs": [],
   "source": [
    "def get_transport(TRANSPORTMODE, ORIGIN_X,ORIGIN_Y,TIME):\n",
    "    \n",
    "    #print(nb)\n",
    "    \n",
    "    #form the request url and request only the items (which are the venues)\n",
    "    url= 'https://isoline.router.hereapi.com/v8/isolines?apiKey=t9X9EF_AkG_qVZ8Q4dWSgyJuMhSklDP7i_gqX5EMunQ&mode&transportMode={}&origin={},{}&range[type]=time&range[values]={}'.format(TRANSPORTMODE, ORIGIN_X,ORIGIN_Y,TIME)\n",
    "\n",
    "    items = requests.get(url).json()#['routes'][0]['sections']\n",
    "    transport = json_normalize(items)#.drop(isolines)\n",
    "    transport_range = transport.isolines.values[0][0]['range']\n",
    "    transport_polygons=transport.isolines.values[0][0]['polygons'][0]\n",
    "    print(url)\n",
    "    #include exception handling where Foursquare request fails for a particular Neighbourhood\n",
    "    if items == []:\n",
    "        print(\" -- HERO request for \",nb,\"returned no results --\")\n",
    "        return None\n",
    "    return transport,items,transport_range,transport_polygons\n"
   ]
  },
  {
   "cell_type": "code",
   "execution_count": 74,
   "metadata": {},
   "outputs": [
    {
     "name": "stdout",
     "output_type": "stream",
     "text": [
      "https://isoline.router.hereapi.com/v8/isolines?apiKey=t9X9EF_AkG_qVZ8Q4dWSgyJuMhSklDP7i_gqX5EMunQ&mode&transportMode=pedestrian&origin=-21.2149885579627,149.146847444913&range[type]=time&range[values]=300\n"
     ]
    },
    {
     "name": "stderr",
     "output_type": "stream",
     "text": [
      "/snap/jupyter/6/lib/python3.7/site-packages/ipykernel_launcher.py:9: FutureWarning: pandas.io.json.json_normalize is deprecated, use pandas.json_normalize instead\n",
      "  if __name__ == '__main__':\n"
     ]
    }
   ],
   "source": [
    "lon = '149.146847444913'\n",
    "lat = '-21.2149885579627'\n",
    "transport,items,transport_range,transport_polygons=get_transport('pedestrian',lat,lon,300)"
   ]
  },
  {
   "cell_type": "code",
   "execution_count": 75,
   "metadata": {},
   "outputs": [
    {
     "data": {
      "text/plain": [
       "{'departure': {'time': '2020-12-21T04:58:43+00:00',\n",
       "  'place': {'type': 'place',\n",
       "   'location': {'lat': -21.21517, 'lng': 149.14583},\n",
       "   'originalLocation': {'lat': -21.2149886, 'lng': 149.1468474}}},\n",
       " 'isolines': [{'range': {'type': 'time', 'value': 300},\n",
       "   'polygons': [{'outer': 'BG933uoB05jv8IwVkQAuVlgB4K3gEAlgB2KvVwVlgB2K7qBAlgB1KAvV8qB7qBmgB3K-qBAmgB3KuVtVmgB3K-qBAmgBsFuVmgB'}]}]}"
      ]
     },
     "execution_count": 75,
     "metadata": {},
     "output_type": "execute_result"
    }
   ],
   "source": [
    "items"
   ]
  },
  {
   "cell_type": "code",
   "execution_count": 9,
   "metadata": {},
   "outputs": [
    {
     "name": "stderr",
     "output_type": "stream",
     "text": [
      "/snap/jupyter/6/lib/python3.7/site-packages/ipykernel_launcher.py:1: FutureWarning: pandas.io.json.json_normalize is deprecated, use pandas.json_normalize instead\n",
      "  \"\"\"Entry point for launching an IPython kernel.\n"
     ]
    }
   ],
   "source": [
    "json_normalize(items).to_csv('herewego.csv')"
   ]
  },
  {
   "cell_type": "code",
   "execution_count": 71,
   "metadata": {},
   "outputs": [
    {
     "data": {
      "text/html": [
       "<div>\n",
       "<style scoped>\n",
       "    .dataframe tbody tr th:only-of-type {\n",
       "        vertical-align: middle;\n",
       "    }\n",
       "\n",
       "    .dataframe tbody tr th {\n",
       "        vertical-align: top;\n",
       "    }\n",
       "\n",
       "    .dataframe thead th {\n",
       "        text-align: right;\n",
       "    }\n",
       "</style>\n",
       "<table border=\"1\" class=\"dataframe\">\n",
       "  <thead>\n",
       "    <tr style=\"text-align: right;\">\n",
       "      <th></th>\n",
       "      <th>isolines</th>\n",
       "      <th>departure.time</th>\n",
       "      <th>departure.place.type</th>\n",
       "      <th>departure.place.location.lat</th>\n",
       "      <th>departure.place.location.lng</th>\n",
       "      <th>departure.place.originalLocation.lat</th>\n",
       "      <th>departure.place.originalLocation.lng</th>\n",
       "    </tr>\n",
       "  </thead>\n",
       "  <tbody>\n",
       "    <tr>\n",
       "      <th>0</th>\n",
       "      <td>[{'range': {'type': 'time', 'value': 300}, 'po...</td>\n",
       "      <td>2020-12-21T04:52:02+00:00</td>\n",
       "      <td>place</td>\n",
       "      <td>-21.21517</td>\n",
       "      <td>149.14583</td>\n",
       "      <td>-21.214989</td>\n",
       "      <td>149.146847</td>\n",
       "    </tr>\n",
       "  </tbody>\n",
       "</table>\n",
       "</div>"
      ],
      "text/plain": [
       "                                            isolines  \\\n",
       "0  [{'range': {'type': 'time', 'value': 300}, 'po...   \n",
       "\n",
       "              departure.time departure.place.type  \\\n",
       "0  2020-12-21T04:52:02+00:00                place   \n",
       "\n",
       "   departure.place.location.lat  departure.place.location.lng  \\\n",
       "0                     -21.21517                     149.14583   \n",
       "\n",
       "   departure.place.originalLocation.lat  departure.place.originalLocation.lng  \n",
       "0                            -21.214989                            149.146847  "
      ]
     },
     "execution_count": 71,
     "metadata": {},
     "output_type": "execute_result"
    }
   ],
   "source": [
    "transport"
   ]
  },
  {
   "cell_type": "code",
   "execution_count": 72,
   "metadata": {},
   "outputs": [
    {
     "data": {
      "text/plain": [
       "{'departure': {'time': '2020-12-21T04:52:02+00:00',\n",
       "  'place': {'type': 'place',\n",
       "   'location': {'lat': -21.21517, 'lng': 149.14583},\n",
       "   'originalLocation': {'lat': -21.2149886, 'lng': 149.1468474}}},\n",
       " 'isolines': [{'range': {'type': 'time', 'value': 300},\n",
       "   'polygons': [{'outer': 'BG933uoB05jv8IwVkQAuVlgB4K3gEAlgB2KvVwVlgB2K7qBAlgB1KAvV8qB7qBmgB3K-qBAmgB3KuVtVmgB3K-qBAmgBsFuVmgB'}]}]}"
      ]
     },
     "execution_count": 72,
     "metadata": {},
     "output_type": "execute_result"
    }
   ],
   "source": [
    "items"
   ]
  },
  {
   "cell_type": "code",
   "execution_count": 73,
   "metadata": {},
   "outputs": [
    {
     "data": {
      "text/plain": [
       "{'type': 'time', 'value': 300}"
      ]
     },
     "execution_count": 73,
     "metadata": {},
     "output_type": "execute_result"
    }
   ],
   "source": [
    "transport_range"
   ]
  },
  {
   "cell_type": "code",
   "execution_count": 13,
   "metadata": {},
   "outputs": [
    {
     "data": {
      "text/html": [
       "<div>\n",
       "<style scoped>\n",
       "    .dataframe tbody tr th:only-of-type {\n",
       "        vertical-align: middle;\n",
       "    }\n",
       "\n",
       "    .dataframe tbody tr th {\n",
       "        vertical-align: top;\n",
       "    }\n",
       "\n",
       "    .dataframe thead th {\n",
       "        text-align: right;\n",
       "    }\n",
       "</style>\n",
       "<table border=\"1\" class=\"dataframe\">\n",
       "  <thead>\n",
       "    <tr style=\"text-align: right;\">\n",
       "      <th></th>\n",
       "      <th>isolines</th>\n",
       "      <th>departure.time</th>\n",
       "      <th>departure.place.type</th>\n",
       "      <th>departure.place.location.lat</th>\n",
       "      <th>departure.place.location.lng</th>\n",
       "      <th>departure.place.originalLocation.lat</th>\n",
       "      <th>departure.place.originalLocation.lng</th>\n",
       "    </tr>\n",
       "  </thead>\n",
       "  <tbody>\n",
       "    <tr>\n",
       "      <th>0</th>\n",
       "      <td>[{'range': {'type': 'time', 'value': 300}, 'po...</td>\n",
       "      <td>2020-12-21T04:05:35+00:00</td>\n",
       "      <td>place</td>\n",
       "      <td>-21.21517</td>\n",
       "      <td>149.14583</td>\n",
       "      <td>-21.214989</td>\n",
       "      <td>149.146847</td>\n",
       "    </tr>\n",
       "  </tbody>\n",
       "</table>\n",
       "</div>"
      ],
      "text/plain": [
       "                                            isolines  \\\n",
       "0  [{'range': {'type': 'time', 'value': 300}, 'po...   \n",
       "\n",
       "              departure.time departure.place.type  \\\n",
       "0  2020-12-21T04:05:35+00:00                place   \n",
       "\n",
       "   departure.place.location.lat  departure.place.location.lng  \\\n",
       "0                     -21.21517                     149.14583   \n",
       "\n",
       "   departure.place.originalLocation.lat  departure.place.originalLocation.lng  \n",
       "0                            -21.214989                            149.146847  "
      ]
     },
     "execution_count": 13,
     "metadata": {},
     "output_type": "execute_result"
    }
   ],
   "source": [
    "transport"
   ]
  },
  {
   "cell_type": "markdown",
   "metadata": {},
   "source": [
    "### Using Isolines and Folium"
   ]
  },
  {
   "cell_type": "code",
   "execution_count": 14,
   "metadata": {},
   "outputs": [],
   "source": [
    "iso=items['isolines']"
   ]
  },
  {
   "cell_type": "code",
   "execution_count": 15,
   "metadata": {},
   "outputs": [
    {
     "data": {
      "text/plain": [
       "'BG933uoB05jv8IwVkQAuVlgB4K3gEAlgB2KvVwVlgB2K7qBAlgB1KAvV8qB7qBmgB3K-qBAmgB3KuVtVmgB3K-qBAmgBsFuVmgB'"
      ]
     },
     "execution_count": 15,
     "metadata": {},
     "output_type": "execute_result"
    }
   ],
   "source": [
    "iso[0]['polygons'][0]['outer']"
   ]
  },
  {
   "cell_type": "code",
   "execution_count": 16,
   "metadata": {},
   "outputs": [
    {
     "name": "stdout",
     "output_type": "stream",
     "text": [
      "Requirement already satisfied: flexpolyline in /home/holborn/snap/jupyter/common/lib/python3.7/site-packages (0.1.0)\r\n"
     ]
    }
   ],
   "source": [
    "!pip install flexpolyline"
   ]
  },
  {
   "cell_type": "markdown",
   "metadata": {},
   "source": [
    "### FlexPolyLine decodes the polyline"
   ]
  },
  {
   "cell_type": "code",
   "execution_count": 17,
   "metadata": {},
   "outputs": [],
   "source": [
    "import flexpolyline as fp\n",
    "from shapely.geometry import Polygon\n",
    "import folium"
   ]
  },
  {
   "cell_type": "code",
   "execution_count": 18,
   "metadata": {},
   "outputs": [],
   "source": [
    "worktest = pd.read_json('data/analytics_worktest_places.json')"
   ]
  },
  {
   "cell_type": "code",
   "execution_count": 19,
   "metadata": {},
   "outputs": [],
   "source": [
    "worktest_updated = worktest.join(pd.json_normalize(worktest.categories))#.drop(columns=['categories'],inplace = True)\n",
    "worktest_updated.drop(columns=['categories'],inplace = True)"
   ]
  },
  {
   "cell_type": "code",
   "execution_count": 20,
   "metadata": {
    "scrolled": true
   },
   "outputs": [
    {
     "data": {
      "text/html": [
       "<div>\n",
       "<style scoped>\n",
       "    .dataframe tbody tr th:only-of-type {\n",
       "        vertical-align: middle;\n",
       "    }\n",
       "\n",
       "    .dataframe tbody tr th {\n",
       "        vertical-align: top;\n",
       "    }\n",
       "\n",
       "    .dataframe thead th {\n",
       "        text-align: right;\n",
       "    }\n",
       "</style>\n",
       "<table border=\"1\" class=\"dataframe\">\n",
       "  <thead>\n",
       "    <tr style=\"text-align: right;\">\n",
       "      <th></th>\n",
       "      <th>googleplace_id</th>\n",
       "      <th>name</th>\n",
       "      <th>lat</th>\n",
       "      <th>lon</th>\n",
       "      <th>address</th>\n",
       "      <th>link</th>\n",
       "      <th>price_level</th>\n",
       "      <th>rating</th>\n",
       "      <th>opening_hours</th>\n",
       "      <th>phone</th>\n",
       "      <th>...</th>\n",
       "      <th>1</th>\n",
       "      <th>2</th>\n",
       "      <th>3</th>\n",
       "      <th>4</th>\n",
       "      <th>5</th>\n",
       "      <th>6</th>\n",
       "      <th>7</th>\n",
       "      <th>8</th>\n",
       "      <th>9</th>\n",
       "      <th>10</th>\n",
       "    </tr>\n",
       "  </thead>\n",
       "  <tbody>\n",
       "    <tr>\n",
       "      <th>0</th>\n",
       "      <td>ChIJ002mH2quEmsR-0HmSd6Rgng</td>\n",
       "      <td>DDC Law Firm</td>\n",
       "      <td>-33.871526</td>\n",
       "      <td>151.209040</td>\n",
       "      <td>Level 21/133 Castlereagh St, Sydney NSW 2000, ...</td>\n",
       "      <td>https://maps.google.com/?cid=8683663415432331771</td>\n",
       "      <td>NaN</td>\n",
       "      <td>NaN</td>\n",
       "      <td>None</td>\n",
       "      <td>(02) 8091 2648</td>\n",
       "      <td>...</td>\n",
       "      <td>establishment</td>\n",
       "      <td>NaN</td>\n",
       "      <td>NaN</td>\n",
       "      <td>NaN</td>\n",
       "      <td>NaN</td>\n",
       "      <td>NaN</td>\n",
       "      <td>NaN</td>\n",
       "      <td>NaN</td>\n",
       "      <td>NaN</td>\n",
       "      <td>NaN</td>\n",
       "    </tr>\n",
       "    <tr>\n",
       "      <th>1</th>\n",
       "      <td>ChIJ002mH2quEmsR4cmE50YkoRU</td>\n",
       "      <td>MKM Group</td>\n",
       "      <td>-33.864548</td>\n",
       "      <td>151.211291</td>\n",
       "      <td>36, Governor Phillip Tower, 1 Farrer Pl, Sydne...</td>\n",
       "      <td>https://maps.google.com/?cid=1558566832997452257</td>\n",
       "      <td>NaN</td>\n",
       "      <td>NaN</td>\n",
       "      <td>[{'order': 0, 'day': 1, 'time': '830', 'action...</td>\n",
       "      <td>(02) 8823 3456</td>\n",
       "      <td>...</td>\n",
       "      <td>establishment</td>\n",
       "      <td>NaN</td>\n",
       "      <td>NaN</td>\n",
       "      <td>NaN</td>\n",
       "      <td>NaN</td>\n",
       "      <td>NaN</td>\n",
       "      <td>NaN</td>\n",
       "      <td>NaN</td>\n",
       "      <td>NaN</td>\n",
       "      <td>NaN</td>\n",
       "    </tr>\n",
       "    <tr>\n",
       "      <th>2</th>\n",
       "      <td>ChIJ002mH2quEmsRaRSnfwx-w9A</td>\n",
       "      <td>Intermine.com.au Pty Ltd</td>\n",
       "      <td>-33.864548</td>\n",
       "      <td>151.211291</td>\n",
       "      <td>Governor Phillip Tower, 23/1 Farrer Pl, Sydney...</td>\n",
       "      <td>https://maps.google.com/?cid=15043005772493952105</td>\n",
       "      <td>NaN</td>\n",
       "      <td>NaN</td>\n",
       "      <td>None</td>\n",
       "      <td>(02) 6262 6265</td>\n",
       "      <td>...</td>\n",
       "      <td>establishment</td>\n",
       "      <td>NaN</td>\n",
       "      <td>NaN</td>\n",
       "      <td>NaN</td>\n",
       "      <td>NaN</td>\n",
       "      <td>NaN</td>\n",
       "      <td>NaN</td>\n",
       "      <td>NaN</td>\n",
       "      <td>NaN</td>\n",
       "      <td>NaN</td>\n",
       "    </tr>\n",
       "    <tr>\n",
       "      <th>3</th>\n",
       "      <td>ChIJ002mH2quEmsREZQM1k6WaqE</td>\n",
       "      <td>Sphere PR</td>\n",
       "      <td>-33.864235</td>\n",
       "      <td>151.211319</td>\n",
       "      <td>Governor Macquarie Tower, Suite 3, level 27/1 ...</td>\n",
       "      <td>https://maps.google.com/?cid=11631274252980491281</td>\n",
       "      <td>NaN</td>\n",
       "      <td>5.0</td>\n",
       "      <td>[{'order': 0, 'day': 1, 'time': '900', 'action...</td>\n",
       "      <td>(02) 8065 0304</td>\n",
       "      <td>...</td>\n",
       "      <td>establishment</td>\n",
       "      <td>NaN</td>\n",
       "      <td>NaN</td>\n",
       "      <td>NaN</td>\n",
       "      <td>NaN</td>\n",
       "      <td>NaN</td>\n",
       "      <td>NaN</td>\n",
       "      <td>NaN</td>\n",
       "      <td>NaN</td>\n",
       "      <td>NaN</td>\n",
       "    </tr>\n",
       "    <tr>\n",
       "      <th>4</th>\n",
       "      <td>ChIJ002mH2quEmsRFFptEpuRAhU</td>\n",
       "      <td>SkiBoutique</td>\n",
       "      <td>-33.864548</td>\n",
       "      <td>151.211291</td>\n",
       "      <td>Governor Phillip Tower, 1D/1 Farrer Pl, Sydney...</td>\n",
       "      <td>https://maps.google.com/?cid=1513932519965022740</td>\n",
       "      <td>NaN</td>\n",
       "      <td>NaN</td>\n",
       "      <td>[{'order': 0, 'day': 0, 'time': '1000', 'actio...</td>\n",
       "      <td>(02) 8076 4865</td>\n",
       "      <td>...</td>\n",
       "      <td>establishment</td>\n",
       "      <td>NaN</td>\n",
       "      <td>NaN</td>\n",
       "      <td>NaN</td>\n",
       "      <td>NaN</td>\n",
       "      <td>NaN</td>\n",
       "      <td>NaN</td>\n",
       "      <td>NaN</td>\n",
       "      <td>NaN</td>\n",
       "      <td>NaN</td>\n",
       "    </tr>\n",
       "  </tbody>\n",
       "</table>\n",
       "<p>5 rows × 24 columns</p>\n",
       "</div>"
      ],
      "text/plain": [
       "                googleplace_id                      name        lat  \\\n",
       "0  ChIJ002mH2quEmsR-0HmSd6Rgng              DDC Law Firm -33.871526   \n",
       "1  ChIJ002mH2quEmsR4cmE50YkoRU                 MKM Group -33.864548   \n",
       "2  ChIJ002mH2quEmsRaRSnfwx-w9A  Intermine.com.au Pty Ltd -33.864548   \n",
       "3  ChIJ002mH2quEmsREZQM1k6WaqE                 Sphere PR -33.864235   \n",
       "4  ChIJ002mH2quEmsRFFptEpuRAhU               SkiBoutique -33.864548   \n",
       "\n",
       "          lon                                            address  \\\n",
       "0  151.209040  Level 21/133 Castlereagh St, Sydney NSW 2000, ...   \n",
       "1  151.211291  36, Governor Phillip Tower, 1 Farrer Pl, Sydne...   \n",
       "2  151.211291  Governor Phillip Tower, 23/1 Farrer Pl, Sydney...   \n",
       "3  151.211319  Governor Macquarie Tower, Suite 3, level 27/1 ...   \n",
       "4  151.211291  Governor Phillip Tower, 1D/1 Farrer Pl, Sydney...   \n",
       "\n",
       "                                                link  price_level  rating  \\\n",
       "0   https://maps.google.com/?cid=8683663415432331771          NaN     NaN   \n",
       "1   https://maps.google.com/?cid=1558566832997452257          NaN     NaN   \n",
       "2  https://maps.google.com/?cid=15043005772493952105          NaN     NaN   \n",
       "3  https://maps.google.com/?cid=11631274252980491281          NaN     5.0   \n",
       "4   https://maps.google.com/?cid=1513932519965022740          NaN     NaN   \n",
       "\n",
       "                                       opening_hours           phone  ...  \\\n",
       "0                                               None  (02) 8091 2648  ...   \n",
       "1  [{'order': 0, 'day': 1, 'time': '830', 'action...  (02) 8823 3456  ...   \n",
       "2                                               None  (02) 6262 6265  ...   \n",
       "3  [{'order': 0, 'day': 1, 'time': '900', 'action...  (02) 8065 0304  ...   \n",
       "4  [{'order': 0, 'day': 0, 'time': '1000', 'actio...  (02) 8076 4865  ...   \n",
       "\n",
       "               1    2    3    4    5    6    7    8    9   10  \n",
       "0  establishment  NaN  NaN  NaN  NaN  NaN  NaN  NaN  NaN  NaN  \n",
       "1  establishment  NaN  NaN  NaN  NaN  NaN  NaN  NaN  NaN  NaN  \n",
       "2  establishment  NaN  NaN  NaN  NaN  NaN  NaN  NaN  NaN  NaN  \n",
       "3  establishment  NaN  NaN  NaN  NaN  NaN  NaN  NaN  NaN  NaN  \n",
       "4  establishment  NaN  NaN  NaN  NaN  NaN  NaN  NaN  NaN  NaN  \n",
       "\n",
       "[5 rows x 24 columns]"
      ]
     },
     "execution_count": 20,
     "metadata": {},
     "output_type": "execute_result"
    }
   ],
   "source": [
    "worktest_updated.head()"
   ]
  },
  {
   "cell_type": "markdown",
   "metadata": {},
   "source": [
    "### Create 3 sets of polylines, add in each different location, around the original location chosen in this instance"
   ]
  },
  {
   "cell_type": "code",
   "execution_count": 44,
   "metadata": {},
   "outputs": [
    {
     "data": {
      "text/plain": [
       "[(-21.213055, 149.145498),\n",
       " (-21.212711, 149.145756),\n",
       " (-21.212711, 149.146099),\n",
       " (-21.213226, 149.146271),\n",
       " (-21.215286, 149.146271),\n",
       " (-21.215801, 149.146442),\n",
       " (-21.216145, 149.146786),\n",
       " (-21.21666, 149.146957),\n",
       " (-21.217346, 149.146957),\n",
       " (-21.217861, 149.146786),\n",
       " (-21.217861, 149.146442),\n",
       " (-21.217175, 149.145756),\n",
       " (-21.21666, 149.145584),\n",
       " (-21.215973, 149.145584),\n",
       " (-21.215458, 149.145412),\n",
       " (-21.215115, 149.145069),\n",
       " (-21.2146, 149.144897),\n",
       " (-21.213913, 149.144897),\n",
       " (-21.213398, 149.144983),\n",
       " (-21.213055, 149.145498)]"
      ]
     },
     "execution_count": 44,
     "metadata": {},
     "output_type": "execute_result"
    }
   ],
   "source": [
    "right_points"
   ]
  },
  {
   "cell_type": "code",
   "execution_count": 45,
   "metadata": {},
   "outputs": [
    {
     "data": {
      "text/plain": [
       "0     (-21.213055, 149.145498)\n",
       "1     (-21.212711, 149.145756)\n",
       "2     (-21.212711, 149.146099)\n",
       "3     (-21.213226, 149.146271)\n",
       "4     (-21.215286, 149.146271)\n",
       "5     (-21.215801, 149.146442)\n",
       "6     (-21.216145, 149.146786)\n",
       "7      (-21.21666, 149.146957)\n",
       "8     (-21.217346, 149.146957)\n",
       "9     (-21.217861, 149.146786)\n",
       "10    (-21.217861, 149.146442)\n",
       "11    (-21.217175, 149.145756)\n",
       "12     (-21.21666, 149.145584)\n",
       "13    (-21.215973, 149.145584)\n",
       "14    (-21.215458, 149.145412)\n",
       "15    (-21.215115, 149.145069)\n",
       "16      (-21.2146, 149.144897)\n",
       "17    (-21.213913, 149.144897)\n",
       "18    (-21.213398, 149.144983)\n",
       "19    (-21.213055, 149.145498)\n",
       "dtype: object"
      ]
     },
     "execution_count": 45,
     "metadata": {},
     "output_type": "execute_result"
    }
   ],
   "source": [
    "geojs"
   ]
  },
  {
   "cell_type": "code",
   "execution_count": 48,
   "metadata": {},
   "outputs": [],
   "source": [
    "from shapely.geometry import Point, Polygon\n"
   ]
  },
  {
   "cell_type": "code",
   "execution_count": 50,
   "metadata": {},
   "outputs": [],
   "source": [
    "p1 = Point(geojs)"
   ]
  },
  {
   "cell_type": "code",
   "execution_count": 59,
   "metadata": {},
   "outputs": [
    {
     "data": {
      "text/plain": [
       "0     (-21.213055, 149.145498)\n",
       "1     (-21.212711, 149.145756)\n",
       "2     (-21.212711, 149.146099)\n",
       "3     (-21.213226, 149.146271)\n",
       "4     (-21.215286, 149.146271)\n",
       "5     (-21.215801, 149.146442)\n",
       "6     (-21.216145, 149.146786)\n",
       "7      (-21.21666, 149.146957)\n",
       "8     (-21.217346, 149.146957)\n",
       "9     (-21.217861, 149.146786)\n",
       "10    (-21.217861, 149.146442)\n",
       "11    (-21.217175, 149.145756)\n",
       "12     (-21.21666, 149.145584)\n",
       "13    (-21.215973, 149.145584)\n",
       "14    (-21.215458, 149.145412)\n",
       "15    (-21.215115, 149.145069)\n",
       "16      (-21.2146, 149.144897)\n",
       "17    (-21.213913, 149.144897)\n",
       "18    (-21.213398, 149.144983)\n",
       "19    (-21.213055, 149.145498)\n",
       "dtype: object"
      ]
     },
     "execution_count": 59,
     "metadata": {},
     "output_type": "execute_result"
    }
   ],
   "source": [
    "geojs"
   ]
  },
  {
   "cell_type": "code",
   "execution_count": 54,
   "metadata": {},
   "outputs": [
    {
     "data": {
      "image/svg+xml": [
       "<svg xmlns=\"http://www.w3.org/2000/svg\" xmlns:xlink=\"http://www.w3.org/1999/xlink\" width=\"100.0\" height=\"100.0\" viewBox=\"-21.218066999999998 149.144691 0.005561999999997624 0.0024719999999831543\" preserveAspectRatio=\"xMinYMin meet\"><g transform=\"matrix(1,0,0,-1,0,298.29185399999994)\"><path fill-rule=\"evenodd\" fill=\"#66cc99\" stroke=\"#555555\" stroke-width=\"0.00011123999999995248\" opacity=\"0.6\" d=\"M -21.213055,149.145498 L -21.212711,149.145756 L -21.212711,149.146099 L -21.213226,149.146271 L -21.215286,149.146271 L -21.215801,149.146442 L -21.216145,149.146786 L -21.21666,149.146957 L -21.217346,149.146957 L -21.217861,149.146786 L -21.217861,149.146442 L -21.217175,149.145756 L -21.21666,149.145584 L -21.215973,149.145584 L -21.215458,149.145412 L -21.215115,149.145069 L -21.2146,149.144897 L -21.213913,149.144897 L -21.213398,149.144983 L -21.213055,149.145498 z\" /></g></svg>"
      ],
      "text/plain": [
       "<shapely.geometry.polygon.Polygon at 0x7fc3dcffcc18>"
      ]
     },
     "execution_count": 54,
     "metadata": {},
     "output_type": "execute_result"
    }
   ],
   "source": [
    "Polygon(geojs)"
   ]
  },
  {
   "cell_type": "code",
   "execution_count": 21,
   "metadata": {
    "scrolled": true
   },
   "outputs": [
    {
     "name": "stderr",
     "output_type": "stream",
     "text": [
      "/snap/jupyter/6/lib/python3.7/site-packages/ipykernel_launcher.py:4: FutureWarning:     You are passing non-geometry data to the GeoSeries constructor. Currently,\n",
      "    it falls back to returning a pandas Series. But in the future, we will start\n",
      "    to raise a TypeError instead.\n",
      "  after removing the cwd from sys.path.\n"
     ]
    }
   ],
   "source": [
    "## Take in the polygon and convert into a shape to be able to understand where points should be.\n",
    "right_points = fp.decode(iso[0]['polygons'][0]['outer'])#.to_csv('object.csv')\n",
    "\n",
    "geojs = gpd.GeoSeries(right_points)\n",
    "geojs.crs = {'init' : 'epsg:4326'}"
   ]
  },
  {
   "cell_type": "code",
   "execution_count": 67,
   "metadata": {},
   "outputs": [
    {
     "data": {
      "text/html": [
       "<div style=\"width:100%;\"><div style=\"position:relative;width:100%;height:0;padding-bottom:60%;\"><span style=\"color:#565656\">Make this Notebook Trusted to load map: File -> Trust Notebook</span><iframe src=\"about:blank\" style=\"position:absolute;width:100%;height:100%;left:0;top:0;border:none !important;\" data-html=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 onload=\"this.contentDocument.open();this.contentDocument.write(atob(this.getAttribute('data-html')));this.contentDocument.close();\" allowfullscreen webkitallowfullscreen mozallowfullscreen></iframe></div></div>"
      ],
      "text/plain": [
       "<folium.folium.Map at 0x7fc3d9dca8d0>"
      ]
     },
     "execution_count": 67,
     "metadata": {},
     "output_type": "execute_result"
    }
   ],
   "source": [
    "data = worktest_updated\n",
    "\n",
    "# Create a Map instance\n",
    "m = folium.Map(location=[lat,lon],tiles='CartoDBPositron',\n",
    "                   zoom_start=17, control_scale=True)\n",
    "\n",
    "folium.Polygon(geojs).add_to(m)\n",
    "\n",
    "\n",
    "# fm = folium.Map(location = home, zoom_start=13, tiles='CartoDBPositron')\n",
    "m\n"
   ]
  },
  {
   "cell_type": "markdown",
   "metadata": {},
   "source": [
    "### Filter dataframe for points within Polygon"
   ]
  },
  {
   "cell_type": "markdown",
   "metadata": {},
   "source": [
    "turn lat lon into Points"
   ]
  },
  {
   "cell_type": "code",
   "execution_count": 58,
   "metadata": {},
   "outputs": [
    {
     "data": {
      "text/plain": [
       "0     (-21.213055, 149.145498)\n",
       "1     (-21.212711, 149.145756)\n",
       "2     (-21.212711, 149.146099)\n",
       "3     (-21.213226, 149.146271)\n",
       "4     (-21.215286, 149.146271)\n",
       "5     (-21.215801, 149.146442)\n",
       "6     (-21.216145, 149.146786)\n",
       "7      (-21.21666, 149.146957)\n",
       "8     (-21.217346, 149.146957)\n",
       "9     (-21.217861, 149.146786)\n",
       "10    (-21.217861, 149.146442)\n",
       "11    (-21.217175, 149.145756)\n",
       "12     (-21.21666, 149.145584)\n",
       "13    (-21.215973, 149.145584)\n",
       "14    (-21.215458, 149.145412)\n",
       "15    (-21.215115, 149.145069)\n",
       "16      (-21.2146, 149.144897)\n",
       "17    (-21.213913, 149.144897)\n",
       "18    (-21.213398, 149.144983)\n",
       "19    (-21.213055, 149.145498)\n",
       "dtype: object"
      ]
     },
     "execution_count": 58,
     "metadata": {},
     "output_type": "execute_result"
    }
   ],
   "source": [
    "geojs"
   ]
  },
  {
   "cell_type": "code",
   "execution_count": 68,
   "metadata": {},
   "outputs": [
    {
     "data": {
      "text/html": [
       "<div>\n",
       "<style scoped>\n",
       "    .dataframe tbody tr th:only-of-type {\n",
       "        vertical-align: middle;\n",
       "    }\n",
       "\n",
       "    .dataframe tbody tr th {\n",
       "        vertical-align: top;\n",
       "    }\n",
       "\n",
       "    .dataframe thead th {\n",
       "        text-align: right;\n",
       "    }\n",
       "</style>\n",
       "<table border=\"1\" class=\"dataframe\">\n",
       "  <thead>\n",
       "    <tr style=\"text-align: right;\">\n",
       "      <th></th>\n",
       "      <th>googleplace_id</th>\n",
       "      <th>name</th>\n",
       "      <th>lat</th>\n",
       "      <th>lon</th>\n",
       "      <th>address</th>\n",
       "      <th>link</th>\n",
       "      <th>price_level</th>\n",
       "      <th>rating</th>\n",
       "      <th>opening_hours</th>\n",
       "      <th>phone</th>\n",
       "      <th>...</th>\n",
       "      <th>2</th>\n",
       "      <th>3</th>\n",
       "      <th>4</th>\n",
       "      <th>5</th>\n",
       "      <th>6</th>\n",
       "      <th>7</th>\n",
       "      <th>8</th>\n",
       "      <th>9</th>\n",
       "      <th>10</th>\n",
       "      <th>geometry</th>\n",
       "    </tr>\n",
       "  </thead>\n",
       "  <tbody>\n",
       "    <tr>\n",
       "      <th>0</th>\n",
       "      <td>ChIJ002mH2quEmsR-0HmSd6Rgng</td>\n",
       "      <td>DDC Law Firm</td>\n",
       "      <td>-33.871526</td>\n",
       "      <td>151.209040</td>\n",
       "      <td>Level 21/133 Castlereagh St, Sydney NSW 2000, ...</td>\n",
       "      <td>https://maps.google.com/?cid=8683663415432331771</td>\n",
       "      <td>NaN</td>\n",
       "      <td>NaN</td>\n",
       "      <td>None</td>\n",
       "      <td>(02) 8091 2648</td>\n",
       "      <td>...</td>\n",
       "      <td>NaN</td>\n",
       "      <td>NaN</td>\n",
       "      <td>NaN</td>\n",
       "      <td>NaN</td>\n",
       "      <td>NaN</td>\n",
       "      <td>NaN</td>\n",
       "      <td>NaN</td>\n",
       "      <td>NaN</td>\n",
       "      <td>NaN</td>\n",
       "      <td>POINT (151.20904 -33.87153)</td>\n",
       "    </tr>\n",
       "    <tr>\n",
       "      <th>1</th>\n",
       "      <td>ChIJ002mH2quEmsR4cmE50YkoRU</td>\n",
       "      <td>MKM Group</td>\n",
       "      <td>-33.864548</td>\n",
       "      <td>151.211291</td>\n",
       "      <td>36, Governor Phillip Tower, 1 Farrer Pl, Sydne...</td>\n",
       "      <td>https://maps.google.com/?cid=1558566832997452257</td>\n",
       "      <td>NaN</td>\n",
       "      <td>NaN</td>\n",
       "      <td>[{'order': 0, 'day': 1, 'time': '830', 'action...</td>\n",
       "      <td>(02) 8823 3456</td>\n",
       "      <td>...</td>\n",
       "      <td>NaN</td>\n",
       "      <td>NaN</td>\n",
       "      <td>NaN</td>\n",
       "      <td>NaN</td>\n",
       "      <td>NaN</td>\n",
       "      <td>NaN</td>\n",
       "      <td>NaN</td>\n",
       "      <td>NaN</td>\n",
       "      <td>NaN</td>\n",
       "      <td>POINT (151.21129 -33.86455)</td>\n",
       "    </tr>\n",
       "    <tr>\n",
       "      <th>2</th>\n",
       "      <td>ChIJ002mH2quEmsRaRSnfwx-w9A</td>\n",
       "      <td>Intermine.com.au Pty Ltd</td>\n",
       "      <td>-33.864548</td>\n",
       "      <td>151.211291</td>\n",
       "      <td>Governor Phillip Tower, 23/1 Farrer Pl, Sydney...</td>\n",
       "      <td>https://maps.google.com/?cid=15043005772493952105</td>\n",
       "      <td>NaN</td>\n",
       "      <td>NaN</td>\n",
       "      <td>None</td>\n",
       "      <td>(02) 6262 6265</td>\n",
       "      <td>...</td>\n",
       "      <td>NaN</td>\n",
       "      <td>NaN</td>\n",
       "      <td>NaN</td>\n",
       "      <td>NaN</td>\n",
       "      <td>NaN</td>\n",
       "      <td>NaN</td>\n",
       "      <td>NaN</td>\n",
       "      <td>NaN</td>\n",
       "      <td>NaN</td>\n",
       "      <td>POINT (151.21129 -33.86455)</td>\n",
       "    </tr>\n",
       "    <tr>\n",
       "      <th>3</th>\n",
       "      <td>ChIJ002mH2quEmsREZQM1k6WaqE</td>\n",
       "      <td>Sphere PR</td>\n",
       "      <td>-33.864235</td>\n",
       "      <td>151.211319</td>\n",
       "      <td>Governor Macquarie Tower, Suite 3, level 27/1 ...</td>\n",
       "      <td>https://maps.google.com/?cid=11631274252980491281</td>\n",
       "      <td>NaN</td>\n",
       "      <td>5.0</td>\n",
       "      <td>[{'order': 0, 'day': 1, 'time': '900', 'action...</td>\n",
       "      <td>(02) 8065 0304</td>\n",
       "      <td>...</td>\n",
       "      <td>NaN</td>\n",
       "      <td>NaN</td>\n",
       "      <td>NaN</td>\n",
       "      <td>NaN</td>\n",
       "      <td>NaN</td>\n",
       "      <td>NaN</td>\n",
       "      <td>NaN</td>\n",
       "      <td>NaN</td>\n",
       "      <td>NaN</td>\n",
       "      <td>POINT (151.21132 -33.86423)</td>\n",
       "    </tr>\n",
       "    <tr>\n",
       "      <th>4</th>\n",
       "      <td>ChIJ002mH2quEmsRFFptEpuRAhU</td>\n",
       "      <td>SkiBoutique</td>\n",
       "      <td>-33.864548</td>\n",
       "      <td>151.211291</td>\n",
       "      <td>Governor Phillip Tower, 1D/1 Farrer Pl, Sydney...</td>\n",
       "      <td>https://maps.google.com/?cid=1513932519965022740</td>\n",
       "      <td>NaN</td>\n",
       "      <td>NaN</td>\n",
       "      <td>[{'order': 0, 'day': 0, 'time': '1000', 'actio...</td>\n",
       "      <td>(02) 8076 4865</td>\n",
       "      <td>...</td>\n",
       "      <td>NaN</td>\n",
       "      <td>NaN</td>\n",
       "      <td>NaN</td>\n",
       "      <td>NaN</td>\n",
       "      <td>NaN</td>\n",
       "      <td>NaN</td>\n",
       "      <td>NaN</td>\n",
       "      <td>NaN</td>\n",
       "      <td>NaN</td>\n",
       "      <td>POINT (151.21129 -33.86455)</td>\n",
       "    </tr>\n",
       "    <tr>\n",
       "      <th>...</th>\n",
       "      <td>...</td>\n",
       "      <td>...</td>\n",
       "      <td>...</td>\n",
       "      <td>...</td>\n",
       "      <td>...</td>\n",
       "      <td>...</td>\n",
       "      <td>...</td>\n",
       "      <td>...</td>\n",
       "      <td>...</td>\n",
       "      <td>...</td>\n",
       "      <td>...</td>\n",
       "      <td>...</td>\n",
       "      <td>...</td>\n",
       "      <td>...</td>\n",
       "      <td>...</td>\n",
       "      <td>...</td>\n",
       "      <td>...</td>\n",
       "      <td>...</td>\n",
       "      <td>...</td>\n",
       "      <td>...</td>\n",
       "      <td>...</td>\n",
       "    </tr>\n",
       "    <tr>\n",
       "      <th>35881</th>\n",
       "      <td>ChIJZZZWVBijEmsRyoXq_pdb5xo</td>\n",
       "      <td>Quest Recruit</td>\n",
       "      <td>-33.815337</td>\n",
       "      <td>151.009432</td>\n",
       "      <td>15/103 George St, Parramatta NSW 2150, Australia</td>\n",
       "      <td>https://maps.google.com/?cid=1938618872981259722</td>\n",
       "      <td>NaN</td>\n",
       "      <td>NaN</td>\n",
       "      <td>None</td>\n",
       "      <td>(02) 9634 4176</td>\n",
       "      <td>...</td>\n",
       "      <td>NaN</td>\n",
       "      <td>NaN</td>\n",
       "      <td>NaN</td>\n",
       "      <td>NaN</td>\n",
       "      <td>NaN</td>\n",
       "      <td>NaN</td>\n",
       "      <td>NaN</td>\n",
       "      <td>NaN</td>\n",
       "      <td>NaN</td>\n",
       "      <td>POINT (151.00943 -33.81534)</td>\n",
       "    </tr>\n",
       "    <tr>\n",
       "      <th>35882</th>\n",
       "      <td>ChIJZZZWVBijEmsRZ6RiRTn6CHU</td>\n",
       "      <td>Peter J Allen and Associates - Counselling by ...</td>\n",
       "      <td>-33.815337</td>\n",
       "      <td>151.009432</td>\n",
       "      <td>315/103 George St, Parramatta NSW 2150, Australia</td>\n",
       "      <td>https://maps.google.com/?cid=8433265426135426151</td>\n",
       "      <td>NaN</td>\n",
       "      <td>NaN</td>\n",
       "      <td>None</td>\n",
       "      <td>(02) 8011 4211</td>\n",
       "      <td>...</td>\n",
       "      <td>establishment</td>\n",
       "      <td>NaN</td>\n",
       "      <td>NaN</td>\n",
       "      <td>NaN</td>\n",
       "      <td>NaN</td>\n",
       "      <td>NaN</td>\n",
       "      <td>NaN</td>\n",
       "      <td>NaN</td>\n",
       "      <td>NaN</td>\n",
       "      <td>POINT (151.00943 -33.81534)</td>\n",
       "    </tr>\n",
       "    <tr>\n",
       "      <th>35883</th>\n",
       "      <td>ChIJZZZWVBijEmsRZOgmWWteNq0</td>\n",
       "      <td>Telco Broker</td>\n",
       "      <td>-33.815390</td>\n",
       "      <td>151.009417</td>\n",
       "      <td>15/103 George St, Parramatta NSW 2150, Australia</td>\n",
       "      <td>https://maps.google.com/?cid=12481267232454142052</td>\n",
       "      <td>NaN</td>\n",
       "      <td>5.0</td>\n",
       "      <td>[{'order': 0, 'day': 1, 'time': '800', 'action...</td>\n",
       "      <td>1300 978 073</td>\n",
       "      <td>...</td>\n",
       "      <td>NaN</td>\n",
       "      <td>NaN</td>\n",
       "      <td>NaN</td>\n",
       "      <td>NaN</td>\n",
       "      <td>NaN</td>\n",
       "      <td>NaN</td>\n",
       "      <td>NaN</td>\n",
       "      <td>NaN</td>\n",
       "      <td>NaN</td>\n",
       "      <td>POINT (151.00942 -33.81539)</td>\n",
       "    </tr>\n",
       "    <tr>\n",
       "      <th>35884</th>\n",
       "      <td>ChIJZZZWVBijEmsRZrDryWog9Ts</td>\n",
       "      <td>Peoplesbridge</td>\n",
       "      <td>-33.815337</td>\n",
       "      <td>151.009432</td>\n",
       "      <td>15/103 George St, Parramatta NSW 2150, Australia</td>\n",
       "      <td>https://maps.google.com/?cid=4320395060558147686</td>\n",
       "      <td>NaN</td>\n",
       "      <td>NaN</td>\n",
       "      <td>[{'order': 0, 'day': 1, 'time': '900', 'action...</td>\n",
       "      <td>1300 736 221</td>\n",
       "      <td>...</td>\n",
       "      <td>NaN</td>\n",
       "      <td>NaN</td>\n",
       "      <td>NaN</td>\n",
       "      <td>NaN</td>\n",
       "      <td>NaN</td>\n",
       "      <td>NaN</td>\n",
       "      <td>NaN</td>\n",
       "      <td>NaN</td>\n",
       "      <td>NaN</td>\n",
       "      <td>POINT (151.00943 -33.81534)</td>\n",
       "    </tr>\n",
       "    <tr>\n",
       "      <th>35885</th>\n",
       "      <td>ChIJZZZWVBijEmsRZvgXGWTukNA</td>\n",
       "      <td>Excellone Pty Ltd</td>\n",
       "      <td>-33.815337</td>\n",
       "      <td>151.009432</td>\n",
       "      <td>15/103 George St, Parramatta NSW 2150, Australia</td>\n",
       "      <td>https://maps.google.com/?cid=15028774070220486758</td>\n",
       "      <td>NaN</td>\n",
       "      <td>NaN</td>\n",
       "      <td>[{'order': 0, 'day': 1, 'time': '900', 'action...</td>\n",
       "      <td>1300 011 077</td>\n",
       "      <td>...</td>\n",
       "      <td>NaN</td>\n",
       "      <td>NaN</td>\n",
       "      <td>NaN</td>\n",
       "      <td>NaN</td>\n",
       "      <td>NaN</td>\n",
       "      <td>NaN</td>\n",
       "      <td>NaN</td>\n",
       "      <td>NaN</td>\n",
       "      <td>NaN</td>\n",
       "      <td>POINT (151.00943 -33.81534)</td>\n",
       "    </tr>\n",
       "  </tbody>\n",
       "</table>\n",
       "<p>35886 rows × 25 columns</p>\n",
       "</div>"
      ],
      "text/plain": [
       "                    googleplace_id  \\\n",
       "0      ChIJ002mH2quEmsR-0HmSd6Rgng   \n",
       "1      ChIJ002mH2quEmsR4cmE50YkoRU   \n",
       "2      ChIJ002mH2quEmsRaRSnfwx-w9A   \n",
       "3      ChIJ002mH2quEmsREZQM1k6WaqE   \n",
       "4      ChIJ002mH2quEmsRFFptEpuRAhU   \n",
       "...                            ...   \n",
       "35881  ChIJZZZWVBijEmsRyoXq_pdb5xo   \n",
       "35882  ChIJZZZWVBijEmsRZ6RiRTn6CHU   \n",
       "35883  ChIJZZZWVBijEmsRZOgmWWteNq0   \n",
       "35884  ChIJZZZWVBijEmsRZrDryWog9Ts   \n",
       "35885  ChIJZZZWVBijEmsRZvgXGWTukNA   \n",
       "\n",
       "                                                    name        lat  \\\n",
       "0                                           DDC Law Firm -33.871526   \n",
       "1                                              MKM Group -33.864548   \n",
       "2                               Intermine.com.au Pty Ltd -33.864548   \n",
       "3                                              Sphere PR -33.864235   \n",
       "4                                            SkiBoutique -33.864548   \n",
       "...                                                  ...        ...   \n",
       "35881                                      Quest Recruit -33.815337   \n",
       "35882  Peter J Allen and Associates - Counselling by ... -33.815337   \n",
       "35883                                       Telco Broker -33.815390   \n",
       "35884                                      Peoplesbridge -33.815337   \n",
       "35885                                  Excellone Pty Ltd -33.815337   \n",
       "\n",
       "              lon                                            address  \\\n",
       "0      151.209040  Level 21/133 Castlereagh St, Sydney NSW 2000, ...   \n",
       "1      151.211291  36, Governor Phillip Tower, 1 Farrer Pl, Sydne...   \n",
       "2      151.211291  Governor Phillip Tower, 23/1 Farrer Pl, Sydney...   \n",
       "3      151.211319  Governor Macquarie Tower, Suite 3, level 27/1 ...   \n",
       "4      151.211291  Governor Phillip Tower, 1D/1 Farrer Pl, Sydney...   \n",
       "...           ...                                                ...   \n",
       "35881  151.009432   15/103 George St, Parramatta NSW 2150, Australia   \n",
       "35882  151.009432  315/103 George St, Parramatta NSW 2150, Australia   \n",
       "35883  151.009417   15/103 George St, Parramatta NSW 2150, Australia   \n",
       "35884  151.009432   15/103 George St, Parramatta NSW 2150, Australia   \n",
       "35885  151.009432   15/103 George St, Parramatta NSW 2150, Australia   \n",
       "\n",
       "                                                    link  price_level  rating  \\\n",
       "0       https://maps.google.com/?cid=8683663415432331771          NaN     NaN   \n",
       "1       https://maps.google.com/?cid=1558566832997452257          NaN     NaN   \n",
       "2      https://maps.google.com/?cid=15043005772493952105          NaN     NaN   \n",
       "3      https://maps.google.com/?cid=11631274252980491281          NaN     5.0   \n",
       "4       https://maps.google.com/?cid=1513932519965022740          NaN     NaN   \n",
       "...                                                  ...          ...     ...   \n",
       "35881   https://maps.google.com/?cid=1938618872981259722          NaN     NaN   \n",
       "35882   https://maps.google.com/?cid=8433265426135426151          NaN     NaN   \n",
       "35883  https://maps.google.com/?cid=12481267232454142052          NaN     5.0   \n",
       "35884   https://maps.google.com/?cid=4320395060558147686          NaN     NaN   \n",
       "35885  https://maps.google.com/?cid=15028774070220486758          NaN     NaN   \n",
       "\n",
       "                                           opening_hours           phone  ...  \\\n",
       "0                                                   None  (02) 8091 2648  ...   \n",
       "1      [{'order': 0, 'day': 1, 'time': '830', 'action...  (02) 8823 3456  ...   \n",
       "2                                                   None  (02) 6262 6265  ...   \n",
       "3      [{'order': 0, 'day': 1, 'time': '900', 'action...  (02) 8065 0304  ...   \n",
       "4      [{'order': 0, 'day': 0, 'time': '1000', 'actio...  (02) 8076 4865  ...   \n",
       "...                                                  ...             ...  ...   \n",
       "35881                                               None  (02) 9634 4176  ...   \n",
       "35882                                               None  (02) 8011 4211  ...   \n",
       "35883  [{'order': 0, 'day': 1, 'time': '800', 'action...    1300 978 073  ...   \n",
       "35884  [{'order': 0, 'day': 1, 'time': '900', 'action...    1300 736 221  ...   \n",
       "35885  [{'order': 0, 'day': 1, 'time': '900', 'action...    1300 011 077  ...   \n",
       "\n",
       "                   2    3    4    5    6    7    8    9   10  \\\n",
       "0                NaN  NaN  NaN  NaN  NaN  NaN  NaN  NaN  NaN   \n",
       "1                NaN  NaN  NaN  NaN  NaN  NaN  NaN  NaN  NaN   \n",
       "2                NaN  NaN  NaN  NaN  NaN  NaN  NaN  NaN  NaN   \n",
       "3                NaN  NaN  NaN  NaN  NaN  NaN  NaN  NaN  NaN   \n",
       "4                NaN  NaN  NaN  NaN  NaN  NaN  NaN  NaN  NaN   \n",
       "...              ...  ...  ...  ...  ...  ...  ...  ...  ...   \n",
       "35881            NaN  NaN  NaN  NaN  NaN  NaN  NaN  NaN  NaN   \n",
       "35882  establishment  NaN  NaN  NaN  NaN  NaN  NaN  NaN  NaN   \n",
       "35883            NaN  NaN  NaN  NaN  NaN  NaN  NaN  NaN  NaN   \n",
       "35884            NaN  NaN  NaN  NaN  NaN  NaN  NaN  NaN  NaN   \n",
       "35885            NaN  NaN  NaN  NaN  NaN  NaN  NaN  NaN  NaN   \n",
       "\n",
       "                          geometry  \n",
       "0      POINT (151.20904 -33.87153)  \n",
       "1      POINT (151.21129 -33.86455)  \n",
       "2      POINT (151.21129 -33.86455)  \n",
       "3      POINT (151.21132 -33.86423)  \n",
       "4      POINT (151.21129 -33.86455)  \n",
       "...                            ...  \n",
       "35881  POINT (151.00943 -33.81534)  \n",
       "35882  POINT (151.00943 -33.81534)  \n",
       "35883  POINT (151.00942 -33.81539)  \n",
       "35884  POINT (151.00943 -33.81534)  \n",
       "35885  POINT (151.00943 -33.81534)  \n",
       "\n",
       "[35886 rows x 25 columns]"
      ]
     },
     "execution_count": 68,
     "metadata": {},
     "output_type": "execute_result"
    }
   ],
   "source": [
    "worktest_updated"
   ]
  },
  {
   "cell_type": "markdown",
   "metadata": {},
   "source": [
    "### Shapely use to turn these lat lons into a similar format, so it's easy to do the intersection."
   ]
  },
  {
   "cell_type": "code",
   "execution_count": null,
   "metadata": {},
   "outputs": [],
   "source": []
  },
  {
   "cell_type": "code",
   "execution_count": 57,
   "metadata": {},
   "outputs": [
    {
     "data": {
      "text/plain": [
       "0        POINT (151.20904 -33.87153)\n",
       "1        POINT (151.21129 -33.86455)\n",
       "2        POINT (151.21129 -33.86455)\n",
       "3        POINT (151.21132 -33.86423)\n",
       "4        POINT (151.21129 -33.86455)\n",
       "                    ...             \n",
       "35881    POINT (151.00943 -33.81534)\n",
       "35882    POINT (151.00943 -33.81534)\n",
       "35883    POINT (151.00942 -33.81539)\n",
       "35884    POINT (151.00943 -33.81534)\n",
       "35885    POINT (151.00943 -33.81534)\n",
       "Name: geometry, Length: 35886, dtype: geometry"
      ]
     },
     "execution_count": 57,
     "metadata": {},
     "output_type": "execute_result"
    }
   ],
   "source": [
    "gdf = gpd.GeoDataFrame(\n",
    "    worktest_updated, geometry=gpd.points_from_xy(worktest_updated.lon, worktest_updated.lat))\n",
    "\n",
    "gdf.geometry#.plot(ax=ax, color='red')\n"
   ]
  },
  {
   "cell_type": "code",
   "execution_count": 65,
   "metadata": {},
   "outputs": [
    {
     "data": {
      "text/plain": [
       "0     (-21.213055, 149.145498)\n",
       "1     (-21.212711, 149.145756)\n",
       "2     (-21.212711, 149.146099)\n",
       "3     (-21.213226, 149.146271)\n",
       "4     (-21.215286, 149.146271)\n",
       "5     (-21.215801, 149.146442)\n",
       "6     (-21.216145, 149.146786)\n",
       "7      (-21.21666, 149.146957)\n",
       "8     (-21.217346, 149.146957)\n",
       "9     (-21.217861, 149.146786)\n",
       "10    (-21.217861, 149.146442)\n",
       "11    (-21.217175, 149.145756)\n",
       "12     (-21.21666, 149.145584)\n",
       "13    (-21.215973, 149.145584)\n",
       "14    (-21.215458, 149.145412)\n",
       "15    (-21.215115, 149.145069)\n",
       "16      (-21.2146, 149.144897)\n",
       "17    (-21.213913, 149.144897)\n",
       "18    (-21.213398, 149.144983)\n",
       "19    (-21.213055, 149.145498)\n",
       "dtype: object"
      ]
     },
     "execution_count": 65,
     "metadata": {},
     "output_type": "execute_result"
    }
   ],
   "source": [
    "geojs"
   ]
  },
  {
   "cell_type": "code",
   "execution_count": 66,
   "metadata": {},
   "outputs": [
    {
     "data": {
      "text/plain": [
       "0        POINT (151.20904 -33.87153)\n",
       "1        POINT (151.21129 -33.86455)\n",
       "2        POINT (151.21129 -33.86455)\n",
       "3        POINT (151.21132 -33.86423)\n",
       "4        POINT (151.21129 -33.86455)\n",
       "                    ...             \n",
       "35881    POINT (151.00943 -33.81534)\n",
       "35882    POINT (151.00943 -33.81534)\n",
       "35883    POINT (151.00942 -33.81539)\n",
       "35884    POINT (151.00943 -33.81534)\n",
       "35885    POINT (151.00943 -33.81534)\n",
       "Name: geometry, Length: 35886, dtype: geometry"
      ]
     },
     "execution_count": 66,
     "metadata": {},
     "output_type": "execute_result"
    }
   ],
   "source": [
    "gdf.geometry"
   ]
  },
  {
   "cell_type": "code",
   "execution_count": 55,
   "metadata": {
    "scrolled": true
   },
   "outputs": [
    {
     "ename": "AttributeError",
     "evalue": "'GeoSeries' object has no attribute '_geom'",
     "output_type": "error",
     "traceback": [
      "\u001b[0;31m---------------------------------------------------------------------------\u001b[0m",
      "\u001b[0;31mAttributeError\u001b[0m                            Traceback (most recent call last)",
      "\u001b[0;32m<ipython-input-55-cd91a53657a1>\u001b[0m in \u001b[0;36m<module>\u001b[0;34m\u001b[0m\n\u001b[0;32m----> 1\u001b[0;31m \u001b[0mPolygon\u001b[0m\u001b[0;34m(\u001b[0m\u001b[0mgeojs\u001b[0m\u001b[0;34m)\u001b[0m\u001b[0;34m.\u001b[0m\u001b[0mwithin\u001b[0m\u001b[0;34m(\u001b[0m\u001b[0mgdf\u001b[0m\u001b[0;34m.\u001b[0m\u001b[0mgeometry\u001b[0m\u001b[0;34m)\u001b[0m\u001b[0;34m\u001b[0m\u001b[0;34m\u001b[0m\u001b[0m\n\u001b[0m",
      "\u001b[0;32m/home/holborn/snap/jupyter/common/lib/python3.7/site-packages/shapely/geometry/base.py\u001b[0m in \u001b[0;36mwithin\u001b[0;34m(self, other)\u001b[0m\n\u001b[1;32m    750\u001b[0m     \u001b[0;32mdef\u001b[0m \u001b[0mwithin\u001b[0m\u001b[0;34m(\u001b[0m\u001b[0mself\u001b[0m\u001b[0;34m,\u001b[0m \u001b[0mother\u001b[0m\u001b[0;34m)\u001b[0m\u001b[0;34m:\u001b[0m\u001b[0;34m\u001b[0m\u001b[0;34m\u001b[0m\u001b[0m\n\u001b[1;32m    751\u001b[0m         \u001b[0;34m\"\"\"Returns True if geometry is within the other, else False\"\"\"\u001b[0m\u001b[0;34m\u001b[0m\u001b[0;34m\u001b[0m\u001b[0m\n\u001b[0;32m--> 752\u001b[0;31m         \u001b[0;32mreturn\u001b[0m \u001b[0mbool\u001b[0m\u001b[0;34m(\u001b[0m\u001b[0mself\u001b[0m\u001b[0;34m.\u001b[0m\u001b[0mimpl\u001b[0m\u001b[0;34m[\u001b[0m\u001b[0;34m'within'\u001b[0m\u001b[0;34m]\u001b[0m\u001b[0;34m(\u001b[0m\u001b[0mself\u001b[0m\u001b[0;34m,\u001b[0m \u001b[0mother\u001b[0m\u001b[0;34m)\u001b[0m\u001b[0;34m)\u001b[0m\u001b[0;34m\u001b[0m\u001b[0;34m\u001b[0m\u001b[0m\n\u001b[0m\u001b[1;32m    753\u001b[0m \u001b[0;34m\u001b[0m\u001b[0m\n\u001b[1;32m    754\u001b[0m     \u001b[0;32mdef\u001b[0m \u001b[0mequals_exact\u001b[0m\u001b[0;34m(\u001b[0m\u001b[0mself\u001b[0m\u001b[0;34m,\u001b[0m \u001b[0mother\u001b[0m\u001b[0;34m,\u001b[0m \u001b[0mtolerance\u001b[0m\u001b[0;34m)\u001b[0m\u001b[0;34m:\u001b[0m\u001b[0;34m\u001b[0m\u001b[0;34m\u001b[0m\u001b[0m\n",
      "\u001b[0;32m/home/holborn/snap/jupyter/common/lib/python3.7/site-packages/shapely/predicates.py\u001b[0m in \u001b[0;36m__call__\u001b[0;34m(self, this, other, *args)\u001b[0m\n\u001b[1;32m     11\u001b[0m     \u001b[0;32mdef\u001b[0m \u001b[0m__call__\u001b[0m\u001b[0;34m(\u001b[0m\u001b[0mself\u001b[0m\u001b[0;34m,\u001b[0m \u001b[0mthis\u001b[0m\u001b[0;34m,\u001b[0m \u001b[0mother\u001b[0m\u001b[0;34m,\u001b[0m \u001b[0;34m*\u001b[0m\u001b[0margs\u001b[0m\u001b[0;34m)\u001b[0m\u001b[0;34m:\u001b[0m\u001b[0;34m\u001b[0m\u001b[0;34m\u001b[0m\u001b[0m\n\u001b[1;32m     12\u001b[0m         \u001b[0mself\u001b[0m\u001b[0;34m.\u001b[0m\u001b[0m_validate\u001b[0m\u001b[0;34m(\u001b[0m\u001b[0mthis\u001b[0m\u001b[0;34m)\u001b[0m\u001b[0;34m\u001b[0m\u001b[0;34m\u001b[0m\u001b[0m\n\u001b[0;32m---> 13\u001b[0;31m         \u001b[0mself\u001b[0m\u001b[0;34m.\u001b[0m\u001b[0m_validate\u001b[0m\u001b[0;34m(\u001b[0m\u001b[0mother\u001b[0m\u001b[0;34m,\u001b[0m \u001b[0mstop_prepared\u001b[0m\u001b[0;34m=\u001b[0m\u001b[0;32mTrue\u001b[0m\u001b[0;34m)\u001b[0m\u001b[0;34m\u001b[0m\u001b[0;34m\u001b[0m\u001b[0m\n\u001b[0m\u001b[1;32m     14\u001b[0m         \u001b[0;32mtry\u001b[0m\u001b[0;34m:\u001b[0m\u001b[0;34m\u001b[0m\u001b[0;34m\u001b[0m\u001b[0m\n\u001b[1;32m     15\u001b[0m             \u001b[0;32mreturn\u001b[0m \u001b[0mself\u001b[0m\u001b[0;34m.\u001b[0m\u001b[0mfn\u001b[0m\u001b[0;34m(\u001b[0m\u001b[0mthis\u001b[0m\u001b[0;34m.\u001b[0m\u001b[0m_geom\u001b[0m\u001b[0;34m,\u001b[0m \u001b[0mother\u001b[0m\u001b[0;34m.\u001b[0m\u001b[0m_geom\u001b[0m\u001b[0;34m,\u001b[0m \u001b[0;34m*\u001b[0m\u001b[0margs\u001b[0m\u001b[0;34m)\u001b[0m\u001b[0;34m\u001b[0m\u001b[0;34m\u001b[0m\u001b[0m\n",
      "\u001b[0;32m/home/holborn/snap/jupyter/common/lib/python3.7/site-packages/shapely/topology.py\u001b[0m in \u001b[0;36m_validate\u001b[0;34m(self, ob, stop_prepared)\u001b[0m\n\u001b[1;32m     15\u001b[0m \u001b[0;34m\u001b[0m\u001b[0m\n\u001b[1;32m     16\u001b[0m     \u001b[0;32mdef\u001b[0m \u001b[0m_validate\u001b[0m\u001b[0;34m(\u001b[0m\u001b[0mself\u001b[0m\u001b[0;34m,\u001b[0m \u001b[0mob\u001b[0m\u001b[0;34m,\u001b[0m \u001b[0mstop_prepared\u001b[0m\u001b[0;34m=\u001b[0m\u001b[0;32mFalse\u001b[0m\u001b[0;34m)\u001b[0m\u001b[0;34m:\u001b[0m\u001b[0;34m\u001b[0m\u001b[0;34m\u001b[0m\u001b[0m\n\u001b[0;32m---> 17\u001b[0;31m         \u001b[0;32mif\u001b[0m \u001b[0mob\u001b[0m \u001b[0;32mis\u001b[0m \u001b[0;32mNone\u001b[0m \u001b[0;32mor\u001b[0m \u001b[0mob\u001b[0m\u001b[0;34m.\u001b[0m\u001b[0m_geom\u001b[0m \u001b[0;32mis\u001b[0m \u001b[0;32mNone\u001b[0m\u001b[0;34m:\u001b[0m\u001b[0;34m\u001b[0m\u001b[0;34m\u001b[0m\u001b[0m\n\u001b[0m\u001b[1;32m     18\u001b[0m             \u001b[0;32mraise\u001b[0m \u001b[0mValueError\u001b[0m\u001b[0;34m(\u001b[0m\u001b[0;34m\"Null geometry supports no operations\"\u001b[0m\u001b[0;34m)\u001b[0m\u001b[0;34m\u001b[0m\u001b[0;34m\u001b[0m\u001b[0m\n\u001b[1;32m     19\u001b[0m         \u001b[0;32mif\u001b[0m \u001b[0mstop_prepared\u001b[0m \u001b[0;32mand\u001b[0m \u001b[0mhasattr\u001b[0m\u001b[0;34m(\u001b[0m\u001b[0mob\u001b[0m\u001b[0;34m,\u001b[0m \u001b[0;34m'prepared'\u001b[0m\u001b[0;34m)\u001b[0m\u001b[0;34m:\u001b[0m\u001b[0;34m\u001b[0m\u001b[0;34m\u001b[0m\u001b[0m\n",
      "\u001b[0;32m/home/holborn/snap/jupyter/common/lib/python3.7/site-packages/pandas/core/generic.py\u001b[0m in \u001b[0;36m__getattr__\u001b[0;34m(self, name)\u001b[0m\n\u001b[1;32m   5272\u001b[0m             \u001b[0;32mif\u001b[0m \u001b[0mself\u001b[0m\u001b[0;34m.\u001b[0m\u001b[0m_info_axis\u001b[0m\u001b[0;34m.\u001b[0m\u001b[0m_can_hold_identifiers_and_holds_name\u001b[0m\u001b[0;34m(\u001b[0m\u001b[0mname\u001b[0m\u001b[0;34m)\u001b[0m\u001b[0;34m:\u001b[0m\u001b[0;34m\u001b[0m\u001b[0;34m\u001b[0m\u001b[0m\n\u001b[1;32m   5273\u001b[0m                 \u001b[0;32mreturn\u001b[0m \u001b[0mself\u001b[0m\u001b[0;34m[\u001b[0m\u001b[0mname\u001b[0m\u001b[0;34m]\u001b[0m\u001b[0;34m\u001b[0m\u001b[0;34m\u001b[0m\u001b[0m\n\u001b[0;32m-> 5274\u001b[0;31m             \u001b[0;32mreturn\u001b[0m \u001b[0mobject\u001b[0m\u001b[0;34m.\u001b[0m\u001b[0m__getattribute__\u001b[0m\u001b[0;34m(\u001b[0m\u001b[0mself\u001b[0m\u001b[0;34m,\u001b[0m \u001b[0mname\u001b[0m\u001b[0;34m)\u001b[0m\u001b[0;34m\u001b[0m\u001b[0;34m\u001b[0m\u001b[0m\n\u001b[0m\u001b[1;32m   5275\u001b[0m \u001b[0;34m\u001b[0m\u001b[0m\n\u001b[1;32m   5276\u001b[0m     \u001b[0;32mdef\u001b[0m \u001b[0m__setattr__\u001b[0m\u001b[0;34m(\u001b[0m\u001b[0mself\u001b[0m\u001b[0;34m,\u001b[0m \u001b[0mname\u001b[0m\u001b[0;34m:\u001b[0m \u001b[0mstr\u001b[0m\u001b[0;34m,\u001b[0m \u001b[0mvalue\u001b[0m\u001b[0;34m)\u001b[0m \u001b[0;34m->\u001b[0m \u001b[0;32mNone\u001b[0m\u001b[0;34m:\u001b[0m\u001b[0;34m\u001b[0m\u001b[0;34m\u001b[0m\u001b[0m\n",
      "\u001b[0;31mAttributeError\u001b[0m: 'GeoSeries' object has no attribute '_geom'"
     ]
    }
   ],
   "source": [
    "Polygon(geojs).within(gdf.geometry)"
   ]
  },
  {
   "cell_type": "code",
   "execution_count": null,
   "metadata": {},
   "outputs": [],
   "source": [
    "\n",
    "# # I can add marker one by one on the map\n",
    "# for i in range(0,len(data)):\n",
    "#     folium.Marker([data.iloc[i]['lon'], data.iloc[i]['lat']], popup=data.iloc[i]['name']).add_to(m)\n"
   ]
  },
  {
   "cell_type": "code",
   "execution_count": 33,
   "metadata": {},
   "outputs": [
    {
     "data": {
      "text/plain": [
       "0       -33.871526\n",
       "1       -33.864548\n",
       "2       -33.864548\n",
       "3       -33.864235\n",
       "4       -33.864548\n",
       "           ...    \n",
       "35881   -33.815337\n",
       "35882   -33.815337\n",
       "35883   -33.815390\n",
       "35884   -33.815337\n",
       "35885   -33.815337\n",
       "Name: lat, Length: 35886, dtype: float64"
      ]
     },
     "execution_count": 33,
     "metadata": {},
     "output_type": "execute_result"
    }
   ],
   "source": [
    "worktest_updated.lat"
   ]
  },
  {
   "cell_type": "code",
   "execution_count": 38,
   "metadata": {},
   "outputs": [
    {
     "data": {
      "text/plain": [
       "151.2090397"
      ]
     },
     "execution_count": 38,
     "metadata": {},
     "output_type": "execute_result"
    }
   ],
   "source": [
    "worktest_updated.lon.values[0]"
   ]
  },
  {
   "cell_type": "code",
   "execution_count": 36,
   "metadata": {},
   "outputs": [
    {
     "data": {
      "text/plain": [
       "(0       -33.871526\n",
       " 1       -33.864548\n",
       " 2       -33.864548\n",
       " 3       -33.864235\n",
       " 4       -33.864548\n",
       "            ...    \n",
       " 35881   -33.815337\n",
       " 35882   -33.815337\n",
       " 35883   -33.815390\n",
       " 35884   -33.815337\n",
       " 35885   -33.815337\n",
       " Name: lat, Length: 35886, dtype: float64, 0        151.209040\n",
       " 1        151.211291\n",
       " 2        151.211291\n",
       " 3        151.211319\n",
       " 4        151.211291\n",
       "             ...    \n",
       " 35881    151.009432\n",
       " 35882    151.009432\n",
       " 35883    151.009417\n",
       " 35884    151.009432\n",
       " 35885    151.009432\n",
       " Name: lon, Length: 35886, dtype: float64)"
      ]
     },
     "execution_count": 36,
     "metadata": {},
     "output_type": "execute_result"
    }
   ],
   "source": [
    "(worktest_updated.lat,worktest_updated.lon)"
   ]
  },
  {
   "cell_type": "code",
   "execution_count": 39,
   "metadata": {},
   "outputs": [
    {
     "data": {
      "text/plain": [
       "GeoSeries([], dtype: geometry)"
      ]
     },
     "execution_count": 39,
     "metadata": {},
     "output_type": "execute_result"
    }
   ],
   "source": [
    "gpd.GeoSeries()"
   ]
  },
  {
   "cell_type": "code",
   "execution_count": null,
   "metadata": {},
   "outputs": [],
   "source": []
  },
  {
   "cell_type": "code",
   "execution_count": null,
   "metadata": {},
   "outputs": [],
   "source": [
    "\n",
    "for i in lat,lon:\n",
    "    \n",
    "    transport,items,transport_range,transport_polygons=get_transport('pedestrian',lat,lon)"
   ]
  },
  {
   "cell_type": "code",
   "execution_count": null,
   "metadata": {},
   "outputs": [],
   "source": [
    "pd.DataFrame(items['isolines'][0]['polygons']).to_csv('example_dataset.csv')"
   ]
  },
  {
   "cell_type": "code",
   "execution_count": null,
   "metadata": {},
   "outputs": [],
   "source": [
    "pd.DataFrame(items['isolines']).to_csv('example_dataset.csv')"
   ]
  },
  {
   "cell_type": "code",
   "execution_count": null,
   "metadata": {},
   "outputs": [],
   "source": [
    "transport"
   ]
  },
  {
   "cell_type": "code",
   "execution_count": null,
   "metadata": {},
   "outputs": [],
   "source": [
    "transport_polygons"
   ]
  },
  {
   "cell_type": "code",
   "execution_count": null,
   "metadata": {},
   "outputs": [],
   "source": [
    "json_normalize(items['isolines'])"
   ]
  },
  {
   "cell_type": "code",
   "execution_count": null,
   "metadata": {},
   "outputs": [],
   "source": [
    "json_normalize(items['isolines'][0]['polygons'][0])"
   ]
  },
  {
   "cell_type": "markdown",
   "metadata": {},
   "source": [
    "### Option 2 : Get within radius of position, locations. Use API to get travel time."
   ]
  },
  {
   "cell_type": "code",
   "execution_count": null,
   "metadata": {},
   "outputs": [],
   "source": [
    "def get_transport(TRANSPORTMODE, ORIGIN_X,ORIGIN_Y,DESTINATION_X,DESTINATION_Y,RETURN ,API_Key):\n",
    "    \n",
    "    #print(nb)\n",
    "    \n",
    "    #form the request url and request only the items (which are the venues)\n",
    "    url = 'https://router.hereapi.com/v8/routes?transportMode={}&origin={},{}&destination={},{}&return={},summary&apikey={}'.format(TRANSPORTMODE, ORIGIN_X,ORIGIN_Y,DESTINATION_X,DESTINATION_Y,RETURN ,API_Key)\n",
    "    items = requests.get(url).json()['routes'][0]['sections']\n",
    "    transport = json_normalize(items).set_index('id')\n",
    "    print(url)\n",
    "    #include exception handling where Foursquare request fails for a particular Neighbourhood\n",
    "    if items == []:\n",
    "        print(\" -- HERO request for \",nb,\"returned no results --\")\n",
    "        return None\n",
    "    return transport\n"
   ]
  },
  {
   "cell_type": "code",
   "execution_count": null,
   "metadata": {},
   "outputs": [],
   "source": []
  },
  {
   "cell_type": "code",
   "execution_count": null,
   "metadata": {},
   "outputs": [],
   "source": [
    "dfsub=location\n",
    "dfstat=locationsofinterest\n",
    "\n",
    "import geopy.distance\n",
    "\n",
    "\n",
    "# pick nearer places,  based on lon/lat then all combinations\n",
    "dfdistbus = (dfsub.assign(foo=1, latr=dfsub[\"lat\"].round(1), lonr=dfsub[\"lon\"].round(1))\n",
    "          .merge(dfstat.assign(foo=1, latr=dfstat[\"LATITUDE\"].round(1), lonr=dfstat[\"LONGITUDE\"].round(1)), \n",
    "                 on=[\"foo\",\"latr\",\"lonr\"])\n",
    "    # calc distance in km between each suburb and each train station\n",
    "     .assign(km=lambda dfa: dfa.apply(lambda r: \n",
    "                                      geopy.distance.geodesic(\n",
    "                                          (r[\"LATITUDE\"],r[\"LONGITUDE\"]), \n",
    "                                          (r[\"lat\"],r[\"lon\"])).km, axis=1))\n",
    "    # reduce number of columns to make it more digestable\n",
    "#      .loc[:,[\"postcode\",\"suburb\",\"address_street_full\",\"STOP_ID\",\"STOP_NAME\",\"km\"]]\n",
    "    # sort so shortest distance station from a suburb is first\n",
    "#      .sort_values([\"postcode\",\"suburb\",\"km\"])\n",
    "    # good practice\n",
    "     .reset_index(drop=True)\n",
    ")\n",
    "\n",
    "dfdistbus"
   ]
  },
  {
   "cell_type": "code",
   "execution_count": null,
   "metadata": {},
   "outputs": [],
   "source": [
    "transport.append(pd.DataFrame.from_dict(d, orient='index'))\n"
   ]
  },
  {
   "cell_type": "code",
   "execution_count": null,
   "metadata": {},
   "outputs": [],
   "source": [
    "transport"
   ]
  },
  {
   "cell_type": "code",
   "execution_count": null,
   "metadata": {},
   "outputs": [],
   "source": []
  },
  {
   "cell_type": "code",
   "execution_count": null,
   "metadata": {},
   "outputs": [],
   "source": [
    "m"
   ]
  },
  {
   "cell_type": "code",
   "execution_count": null,
   "metadata": {},
   "outputs": [],
   "source": [
    "HERE_ID = 't9X9EF_AkG_qVZ8Q4dWSgyJuMhSklDP7i_gqX5EMunQ'\n",
    "\n",
    "# HERE_CODE = "
   ]
  },
  {
   "cell_type": "code",
   "execution_count": null,
   "metadata": {},
   "outputs": [],
   "source": [
    "import hereapi\n",
    "\n",
    "HERE_ID = 't9X9EF_AkG_qVZ8Q4dWSgyJuMhSklDP7i_gqX5EMunQ'\n",
    "\n",
    "\n",
    "home = [-33.43649,-70.64995]    # Plaza de Armas, Santiago\n",
    "locs = hereapi.get_isodata(home, 1000,'time')     #1000 seconds\n",
    "hereapi.isoplot(home, locs,'red','out.html')\t# plot in red and save"
   ]
  },
  {
   "cell_type": "code",
   "execution_count": null,
   "metadata": {},
   "outputs": [],
   "source": []
  },
  {
   "cell_type": "code",
   "execution_count": null,
   "metadata": {},
   "outputs": [],
   "source": [
    "def get_isodata(home, range, type):\n",
    "    if isinstance(range, (list,array)):\t\t# several values\n",
    "        comps = [get_isodata(home, rng, type) for rng in range]\n",
    "    else:\n",
    "        url = URL_BASE['isoline'].format(heads['isoline'], ID, CODE, home[0],home[1], range, type)\n",
    "        js = requests.get(url).json()['response']\n",
    "        # center = js['center']\t# {'latitude': -33.406654, 'longitude': -70.572701}\n",
    "        iso = js['isoline']\n",
    "        comps = [(float(x.split(',')[0]),float(x.split(',')[1])) for x in iso[0]['component'][0]['shape']]\n",
    "\n",
    "    return comps"
   ]
  },
  {
   "cell_type": "code",
   "execution_count": null,
   "metadata": {},
   "outputs": [],
   "source": [
    "\n",
    "\n",
    "def isoplot(home, locations, color, outputfile):\n",
    "    fm = folium.Map(location = home, zoom_start=13, tiles='CartoDBPositron')\n",
    "    if isinstance(locations[0][0],float):\n",
    "        folium.PolyLine(locations=locations,color=color).add_to(fm)\n",
    "    else:\t# a list coming from above (or elsewhere), color is also a list\n",
    "        for loc,col in zip(locations,color):\n",
    "\t\t\tfolium.PolyLine(locations=loc,color=col).add_to(fm)\n",
    "\tfm.save(outputfile)s\n",
    "\tprint('map saved to %s' %outputfile)\n"
   ]
  },
  {
   "cell_type": "code",
   "execution_count": null,
   "metadata": {},
   "outputs": [],
   "source": [
    "Geometry = Point(xy) for xy in zip(dflat,lon)"
   ]
  },
  {
   "cell_type": "code",
   "execution_count": null,
   "metadata": {},
   "outputs": [],
   "source": [
    "pd.DataFrame.from_dict(transport.isolines.values[0][0],orient='Index')"
   ]
  },
  {
   "cell_type": "markdown",
   "metadata": {},
   "source": [
    "### Isoline Map viz of data points"
   ]
  },
  {
   "cell_type": "code",
   "execution_count": null,
   "metadata": {},
   "outputs": [],
   "source": [
    "transport.isolines.values[0][0]['range']"
   ]
  },
  {
   "cell_type": "code",
   "execution_count": null,
   "metadata": {},
   "outputs": [],
   "source": [
    "transport.isolines.values[0][0]"
   ]
  },
  {
   "cell_type": "code",
   "execution_count": null,
   "metadata": {},
   "outputs": [],
   "source": [
    "(transport.isolines.values[0][0]['polygons'][0])"
   ]
  },
  {
   "cell_type": "code",
   "execution_count": null,
   "metadata": {},
   "outputs": [],
   "source": [
    "52.51578,13.37749"
   ]
  },
  {
   "cell_type": "code",
   "execution_count": null,
   "metadata": {},
   "outputs": [],
   "source": [
    "URLS"
   ]
  },
  {
   "cell_type": "code",
   "execution_count": null,
   "metadata": {},
   "outputs": [],
   "source": [
    "def get_transport(TRANSPORTMODE, ORIGIN_X,ORIGIN_Y,DESTINATION_X,DESTINATION_Y,RETURN ,API_Key):\n",
    "    \n",
    "    #print(nb)\n",
    "    \n",
    "    #form the request url and request only the items (which are the venues)\n",
    "    url = 'https://router.hereapi.com/v8/routes?transportMode={}&origin={},{}&destination={},{}&return={},summary&apikey={}'.format(TRANSPORTMODE, ORIGIN_X,ORIGIN_Y,DESTINATION_X,DESTINATION_Y,RETURN ,API_Key)\n",
    "    items = requests.get(url).json()['routes'][0]['sections']\n",
    "    transport = json_normalize(items).set_index('id')\n",
    "    print(url)\n",
    "    #include exception handling where Foursquare request fails for a particular Neighbourhood\n",
    "    if items == []:\n",
    "        print(\" -- HERO request for \",nb,\"returned no results --\")\n",
    "        return None\n",
    "    return transport\n"
   ]
  },
  {
   "cell_type": "code",
   "execution_count": null,
   "metadata": {},
   "outputs": [],
   "source": [
    "URLS= 'https://isoline.router.hereapi.com/v8/isolines?apiKey=t9X9EF_AkG_qVZ8Q4dWSgyJuMhSklDP7i_gqX5EMunQ&mode&transportMode=car&origin=52.51578,13.37749&range[type]=time&range[values]=300'\n"
   ]
  },
  {
   "cell_type": "code",
   "execution_count": null,
   "metadata": {},
   "outputs": [],
   "source": [
    "def get_transport(TRANSPORTMODE, ORIGIN_X,ORIGIN_Y,DESTINATION_X,DESTINATION_Y,RETURN ,API_Key):\n",
    "    \n",
    "    #print(nb)\n",
    "    \n",
    "    #form the request url and request only the items (which are the venues)\n",
    "    url = 'https://router.hereapi.com/v8/routes?transportMode={}&origin={},{}&destination={},{}&return={},summary&apikey={}'.format(TRANSPORTMODE, ORIGIN_X,ORIGIN_Y,DESTINATION_X,DESTINATION_Y,RETURN ,API_Key)\n",
    "    items = requests.get(url).json()['routes'][0]['sections']\n",
    "    transport = json_normalize(items).set_index('id')\n",
    "    print(url)\n",
    "    #include exception handling where Foursquare request fails for a particular Neighbourhood\n",
    "    if items == []:\n",
    "        print(\" -- HERO request for \",nb,\"returned no results --\")\n",
    "        return None\n",
    "    return transport\n"
   ]
  },
  {
   "cell_type": "code",
   "execution_count": null,
   "metadata": {},
   "outputs": [],
   "source": [
    "# URL = 'https://isoline.router.hereapi.com/v8/isolines'\n",
    "\n",
    "\n",
    "URL = 'https://router.hereapi.com/v8/isolines?transportMode={}&origin={},{}&destination={},{}&return={},summary&apikey={}'.format(TRANSPORTMODE, ORIGIN_X,ORIGIN_Y,DESTINATION_X,DESTINATION_Y,RETURN ,API_Key)\n"
   ]
  },
  {
   "cell_type": "code",
   "execution_count": null,
   "metadata": {},
   "outputs": [],
   "source": [
    "URL = 'https://isoline.router.hereapi.com/v8/isolines/{-37.8102306},{144.9539645}'\n",
    "requests.get(URL)\n",
    "# Place[WaypointOptions]"
   ]
  },
  {
   "cell_type": "code",
   "execution_count": null,
   "metadata": {},
   "outputs": [],
   "source": [
    "url = 'https://router.hereapi.com/v8/routes?transportMode={}&origin={},{}&destination={},{}&return={},summary&apikey={}'.format(TRANSPORTMODE, ORIGIN_X,ORIGIN_Y,DESTINATION_X,DESTINATION_Y,RETURN ,API_Key)\n"
   ]
  },
  {
   "cell_type": "code",
   "execution_count": null,
   "metadata": {},
   "outputs": [],
   "source": [
    "items = requests.get(url).json()['routes'][0]['sections']\n"
   ]
  },
  {
   "cell_type": "code",
   "execution_count": null,
   "metadata": {},
   "outputs": [],
   "source": [
    "def get_transport(TRANSPORTMODE, ORIGIN_X,ORIGIN_Y,DESTINATION_X,DESTINATION_Y,RETURN ,API_Key):\n",
    "    \n",
    "    #print(nb)\n",
    "    \n",
    "    #form the request url and request only the items (which are the venues)\n",
    "    url = 'https://router.hereapi.com/v8/routes?transportMode={}&origin={},{}&destination={},{}&return={},summary&apikey={}'.format(TRANSPORTMODE, ORIGIN_X,ORIGIN_Y,DESTINATION_X,DESTINATION_Y,RETURN ,API_Key)\n",
    "    items = requests.get(url).json()['routes'][0]['sections']\n",
    "    transport = json_normalize(items).set_index('id')\n",
    "    print(url)\n",
    "    #include exception handling where Foursquare request fails for a particular Neighbourhood\n",
    "    if items == []:\n",
    "        print(\" -- HERO request for \",nb,\"returned no results --\")\n",
    "        return None\n",
    "    return transport\n"
   ]
  },
  {
   "cell_type": "code",
   "execution_count": null,
   "metadata": {},
   "outputs": [],
   "source": [
    "# https://isoline.router.hereapi.com/v8/isolines"
   ]
  },
  {
   "cell_type": "code",
   "execution_count": null,
   "metadata": {
    "scrolled": true
   },
   "outputs": [],
   "source": [
    "work_test_sites = pd.read_json('data/analytics_worktest_places.json').set_index('name')#.head()"
   ]
  },
  {
   "cell_type": "code",
   "execution_count": null,
   "metadata": {},
   "outputs": [],
   "source": [
    "locations_test = pd.read_csv('data/locations.csv').set_index('name')#.head()"
   ]
  },
  {
   "cell_type": "code",
   "execution_count": null,
   "metadata": {},
   "outputs": [],
   "source": [
    "locations_test"
   ]
  },
  {
   "cell_type": "code",
   "execution_count": null,
   "metadata": {},
   "outputs": [],
   "source": [
    "work_test_sites"
   ]
  },
  {
   "cell_type": "code",
   "execution_count": null,
   "metadata": {},
   "outputs": [],
   "source": [
    "latitude = dataframe.lat.values\n",
    "longitude = dataframe.lon.values"
   ]
  },
  {
   "cell_type": "code",
   "execution_count": null,
   "metadata": {},
   "outputs": [],
   "source": []
  },
  {
   "cell_type": "code",
   "execution_count": null,
   "metadata": {},
   "outputs": [],
   "source": [
    "# create map\n",
    "map_data = folium.Map(location=[latitude, longitude], zoom_start=11)\n",
    "\n",
    "colors_list = ['Red','Blue','Green','Yellow','Purple','Pink','Orange']\n",
    "\n"
   ]
  }
 ],
 "metadata": {
  "kernelspec": {
   "display_name": "Python 3",
   "language": "python",
   "name": "python3"
  },
  "language_info": {
   "codemirror_mode": {
    "name": "ipython",
    "version": 3
   },
   "file_extension": ".py",
   "mimetype": "text/x-python",
   "name": "python",
   "nbconvert_exporter": "python",
   "pygments_lexer": "ipython3",
   "version": "3.7.3"
  }
 },
 "nbformat": 4,
 "nbformat_minor": 2
}
